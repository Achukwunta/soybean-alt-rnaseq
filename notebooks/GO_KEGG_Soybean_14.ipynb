{
 "cells": [
  {
   "cell_type": "code",
   "execution_count": null,
   "id": "143ff790",
   "metadata": {},
   "outputs": [],
   "source": []
  },
  {
   "cell_type": "code",
   "execution_count": 1,
   "id": "f826b970",
   "metadata": {},
   "outputs": [],
   "source": [
    "# Import libraries\n",
    "\n",
    "import pandas as pd\n",
    "import numpy as np\n",
    "import seaborn as sns\n",
    "import matplotlib.pyplot as plt"
   ]
  },
  {
   "cell_type": "code",
   "execution_count": 2,
   "id": "aa353304",
   "metadata": {},
   "outputs": [],
   "source": [
    "# Remove warnings\n",
    "import warnings\n",
    "from warnings import filterwarnings\n",
    "filterwarnings('ignore')"
   ]
  },
  {
   "cell_type": "code",
   "execution_count": 4,
   "id": "df8ab309",
   "metadata": {},
   "outputs": [
    {
     "data": {
      "text/html": [
       "<div>\n",
       "<style scoped>\n",
       "    .dataframe tbody tr th:only-of-type {\n",
       "        vertical-align: middle;\n",
       "    }\n",
       "\n",
       "    .dataframe tbody tr th {\n",
       "        vertical-align: top;\n",
       "    }\n",
       "\n",
       "    .dataframe thead th {\n",
       "        text-align: right;\n",
       "    }\n",
       "</style>\n",
       "<table border=\"1\" class=\"dataframe\">\n",
       "  <thead>\n",
       "    <tr style=\"text-align: right;\">\n",
       "      <th></th>\n",
       "      <th>Geneid</th>\n",
       "      <th>baseMean</th>\n",
       "      <th>log2FoldChange</th>\n",
       "      <th>lfcSE</th>\n",
       "      <th>stat</th>\n",
       "      <th>pvalue</th>\n",
       "      <th>padj</th>\n",
       "    </tr>\n",
       "  </thead>\n",
       "  <tbody>\n",
       "    <tr>\n",
       "      <th>0</th>\n",
       "      <td>GLYMA_18G231300</td>\n",
       "      <td>1505.896302</td>\n",
       "      <td>-1.560721</td>\n",
       "      <td>0.165133</td>\n",
       "      <td>-9.451275</td>\n",
       "      <td>3.347283e-21</td>\n",
       "      <td>1.008111e-18</td>\n",
       "    </tr>\n",
       "    <tr>\n",
       "      <th>1</th>\n",
       "      <td>GLYMA_18G184600</td>\n",
       "      <td>1103.765881</td>\n",
       "      <td>-2.092190</td>\n",
       "      <td>0.343067</td>\n",
       "      <td>-6.098487</td>\n",
       "      <td>1.070770e-09</td>\n",
       "      <td>4.702932e-08</td>\n",
       "    </tr>\n",
       "    <tr>\n",
       "      <th>2</th>\n",
       "      <td>GLYMA_18G089100</td>\n",
       "      <td>14.878991</td>\n",
       "      <td>6.539420</td>\n",
       "      <td>1.965994</td>\n",
       "      <td>3.326266</td>\n",
       "      <td>8.801797e-04</td>\n",
       "      <td>6.732684e-03</td>\n",
       "    </tr>\n",
       "    <tr>\n",
       "      <th>3</th>\n",
       "      <td>GLYMA_18G200100</td>\n",
       "      <td>131.351419</td>\n",
       "      <td>1.814435</td>\n",
       "      <td>0.550744</td>\n",
       "      <td>3.294516</td>\n",
       "      <td>9.859123e-04</td>\n",
       "      <td>7.401635e-03</td>\n",
       "    </tr>\n",
       "    <tr>\n",
       "      <th>4</th>\n",
       "      <td>GLYMA_18G047800</td>\n",
       "      <td>59.554930</td>\n",
       "      <td>3.091374</td>\n",
       "      <td>0.483864</td>\n",
       "      <td>6.388925</td>\n",
       "      <td>1.670554e-10</td>\n",
       "      <td>8.922097e-09</td>\n",
       "    </tr>\n",
       "  </tbody>\n",
       "</table>\n",
       "</div>"
      ],
      "text/plain": [
       "            Geneid     baseMean  log2FoldChange     lfcSE      stat  \\\n",
       "0  GLYMA_18G231300  1505.896302       -1.560721  0.165133 -9.451275   \n",
       "1  GLYMA_18G184600  1103.765881       -2.092190  0.343067 -6.098487   \n",
       "2  GLYMA_18G089100    14.878991        6.539420  1.965994  3.326266   \n",
       "3  GLYMA_18G200100   131.351419        1.814435  0.550744  3.294516   \n",
       "4  GLYMA_18G047800    59.554930        3.091374  0.483864  6.388925   \n",
       "\n",
       "         pvalue          padj  \n",
       "0  3.347283e-21  1.008111e-18  \n",
       "1  1.070770e-09  4.702932e-08  \n",
       "2  8.801797e-04  6.732684e-03  \n",
       "3  9.859123e-04  7.401635e-03  \n",
       "4  1.670554e-10  8.922097e-09  "
      ]
     },
     "execution_count": 4,
     "metadata": {},
     "output_type": "execute_result"
    }
   ],
   "source": [
    "# Load differential expression results (DEGs)\n",
    "soybean_degs = pd.read_csv(\"sigs_expressed_genes_soybean_14dpi.csv\")\n",
    "soybean_degs.head()"
   ]
  },
  {
   "cell_type": "code",
   "execution_count": 5,
   "id": "d41e859f",
   "metadata": {},
   "outputs": [],
   "source": [
    "# List of DEGs\n",
    "# Define up and down-regulated genes\n",
    "def get_regulated_genes(de_results, log2fc_threshold=1):\n",
    "    up_genes = de_results[de_results['log2FoldChange'] > log2fc_threshold]['Geneid'].tolist()\n",
    "    down_genes = de_results[de_results['log2FoldChange'] < -log2fc_threshold]['Geneid'].tolist()\n",
    "    return up_genes, down_genes"
   ]
  },
  {
   "cell_type": "code",
   "execution_count": 6,
   "id": "1235b400",
   "metadata": {},
   "outputs": [],
   "source": [
    "up_regulated_genes, down_regulated_genes = get_regulated_genes(soybean_degs)"
   ]
  },
  {
   "cell_type": "code",
   "execution_count": 7,
   "id": "40cf716d",
   "metadata": {},
   "outputs": [
    {
     "data": {
      "text/plain": [
       "['GLYMA_18G089100',\n",
       " 'GLYMA_18G200100',\n",
       " 'GLYMA_18G047800',\n",
       " 'GLYMA_18G094600',\n",
       " 'GLYMA_18G261300']"
      ]
     },
     "execution_count": 7,
     "metadata": {},
     "output_type": "execute_result"
    }
   ],
   "source": [
    "up_regulated_genes[:5]"
   ]
  },
  {
   "cell_type": "code",
   "execution_count": 8,
   "id": "5cf2a4f9",
   "metadata": {},
   "outputs": [
    {
     "name": "stdout",
     "output_type": "stream",
     "text": [
      "Number of up regulated genes: 953\n"
     ]
    }
   ],
   "source": [
    "print(f\"Number of up regulated genes: {len(up_regulated_genes)}\")"
   ]
  },
  {
   "cell_type": "code",
   "execution_count": 9,
   "id": "a97a8d2a",
   "metadata": {},
   "outputs": [
    {
     "data": {
      "text/plain": [
       "['GLYMA_18G231300',\n",
       " 'GLYMA_18G184600',\n",
       " 'GLYMA_18G062000',\n",
       " 'GLYMA_18G030700',\n",
       " 'GLYMA_18G285700']"
      ]
     },
     "execution_count": 9,
     "metadata": {},
     "output_type": "execute_result"
    }
   ],
   "source": [
    "down_regulated_genes[:5]"
   ]
  },
  {
   "cell_type": "code",
   "execution_count": 10,
   "id": "b7f1efbf",
   "metadata": {},
   "outputs": [
    {
     "name": "stdout",
     "output_type": "stream",
     "text": [
      "Number of down regulated genes: 621\n"
     ]
    }
   ],
   "source": [
    "print(f\"Number of down regulated genes: {len(down_regulated_genes)}\")"
   ]
  },
  {
   "cell_type": "code",
   "execution_count": null,
   "id": "2bc62f36",
   "metadata": {},
   "outputs": [],
   "source": []
  },
  {
   "cell_type": "code",
   "execution_count": 11,
   "id": "aa23112a",
   "metadata": {},
   "outputs": [],
   "source": [
    "# GO Enrichment"
   ]
  },
  {
   "cell_type": "code",
   "execution_count": 12,
   "id": "3f6521d0",
   "metadata": {},
   "outputs": [],
   "source": [
    "from gprofiler import GProfiler"
   ]
  },
  {
   "cell_type": "code",
   "execution_count": 13,
   "id": "fa7036a1",
   "metadata": {},
   "outputs": [],
   "source": [
    "# Perform KEGG and GO enrichment\n",
    "def soybean_enrichment(gene_list, organism='gmax', significance_threshold=0.05):\n",
    "    gp = GProfiler(return_dataframe=True)\n",
    "    result = gp.profile(organism=organism,\n",
    "                        query=gene_list,\n",
    "                        significance_threshold_method='fdr',\n",
    "                        user_threshold=significance_threshold,\n",
    "                        sources=['GO:BP', 'GO:MF', 'GO:CC', 'KEGG'])\n",
    "    return result"
   ]
  },
  {
   "cell_type": "code",
   "execution_count": 14,
   "id": "bea3c4cd",
   "metadata": {},
   "outputs": [],
   "source": [
    "# Convert enrichment results to DataFrame\n",
    "up_enrichment = soybean_enrichment(up_regulated_genes)\n",
    "down_enrichment = soybean_enrichment(down_regulated_genes)"
   ]
  },
  {
   "cell_type": "code",
   "execution_count": 15,
   "id": "152ef1e4",
   "metadata": {},
   "outputs": [
    {
     "data": {
      "text/html": [
       "<div>\n",
       "<style scoped>\n",
       "    .dataframe tbody tr th:only-of-type {\n",
       "        vertical-align: middle;\n",
       "    }\n",
       "\n",
       "    .dataframe tbody tr th {\n",
       "        vertical-align: top;\n",
       "    }\n",
       "\n",
       "    .dataframe thead th {\n",
       "        text-align: right;\n",
       "    }\n",
       "</style>\n",
       "<table border=\"1\" class=\"dataframe\">\n",
       "  <thead>\n",
       "    <tr style=\"text-align: right;\">\n",
       "      <th></th>\n",
       "      <th>source</th>\n",
       "      <th>native</th>\n",
       "      <th>name</th>\n",
       "      <th>p_value</th>\n",
       "      <th>significant</th>\n",
       "      <th>description</th>\n",
       "      <th>term_size</th>\n",
       "      <th>query_size</th>\n",
       "      <th>intersection_size</th>\n",
       "      <th>effective_domain_size</th>\n",
       "      <th>precision</th>\n",
       "      <th>recall</th>\n",
       "      <th>query</th>\n",
       "      <th>parents</th>\n",
       "    </tr>\n",
       "  </thead>\n",
       "  <tbody>\n",
       "    <tr>\n",
       "      <th>0</th>\n",
       "      <td>GO:BP</td>\n",
       "      <td>GO:0009408</td>\n",
       "      <td>response to heat</td>\n",
       "      <td>3.166708e-28</td>\n",
       "      <td>True</td>\n",
       "      <td>\"Any process that results in a change in state...</td>\n",
       "      <td>229</td>\n",
       "      <td>562</td>\n",
       "      <td>43</td>\n",
       "      <td>31857</td>\n",
       "      <td>0.076512</td>\n",
       "      <td>0.187773</td>\n",
       "      <td>query_1</td>\n",
       "      <td>[GO:0006950, GO:0009266]</td>\n",
       "    </tr>\n",
       "    <tr>\n",
       "      <th>1</th>\n",
       "      <td>GO:BP</td>\n",
       "      <td>GO:0051259</td>\n",
       "      <td>protein complex oligomerization</td>\n",
       "      <td>1.712841e-26</td>\n",
       "      <td>True</td>\n",
       "      <td>\"The process of creating protein oligomers, co...</td>\n",
       "      <td>64</td>\n",
       "      <td>562</td>\n",
       "      <td>26</td>\n",
       "      <td>31857</td>\n",
       "      <td>0.046263</td>\n",
       "      <td>0.406250</td>\n",
       "      <td>query_1</td>\n",
       "      <td>[GO:0065003]</td>\n",
       "    </tr>\n",
       "    <tr>\n",
       "      <th>2</th>\n",
       "      <td>GO:BP</td>\n",
       "      <td>GO:0042542</td>\n",
       "      <td>response to hydrogen peroxide</td>\n",
       "      <td>1.712841e-26</td>\n",
       "      <td>True</td>\n",
       "      <td>\"Any process that results in a change in state...</td>\n",
       "      <td>71</td>\n",
       "      <td>562</td>\n",
       "      <td>27</td>\n",
       "      <td>31857</td>\n",
       "      <td>0.048043</td>\n",
       "      <td>0.380282</td>\n",
       "      <td>query_1</td>\n",
       "      <td>[GO:0000302]</td>\n",
       "    </tr>\n",
       "  </tbody>\n",
       "</table>\n",
       "</div>"
      ],
      "text/plain": [
       "  source      native                             name       p_value  \\\n",
       "0  GO:BP  GO:0009408                 response to heat  3.166708e-28   \n",
       "1  GO:BP  GO:0051259  protein complex oligomerization  1.712841e-26   \n",
       "2  GO:BP  GO:0042542    response to hydrogen peroxide  1.712841e-26   \n",
       "\n",
       "   significant                                        description  term_size  \\\n",
       "0         True  \"Any process that results in a change in state...        229   \n",
       "1         True  \"The process of creating protein oligomers, co...         64   \n",
       "2         True  \"Any process that results in a change in state...         71   \n",
       "\n",
       "   query_size  intersection_size  effective_domain_size  precision    recall  \\\n",
       "0         562                 43                  31857   0.076512  0.187773   \n",
       "1         562                 26                  31857   0.046263  0.406250   \n",
       "2         562                 27                  31857   0.048043  0.380282   \n",
       "\n",
       "     query                   parents  \n",
       "0  query_1  [GO:0006950, GO:0009266]  \n",
       "1  query_1              [GO:0065003]  \n",
       "2  query_1              [GO:0000302]  "
      ]
     },
     "execution_count": 15,
     "metadata": {},
     "output_type": "execute_result"
    }
   ],
   "source": [
    "up_enrichment.head(3)"
   ]
  },
  {
   "cell_type": "code",
   "execution_count": 16,
   "id": "b46bc9e2",
   "metadata": {},
   "outputs": [
    {
     "name": "stdout",
     "output_type": "stream",
     "text": [
      "Significant up-regulated GO-KEGG terms: 149\n"
     ]
    }
   ],
   "source": [
    "print(f\"Significant up-regulated GO-KEGG terms: {len(up_enrichment)}\")"
   ]
  },
  {
   "cell_type": "code",
   "execution_count": null,
   "id": "0e0a07cf",
   "metadata": {},
   "outputs": [],
   "source": []
  },
  {
   "cell_type": "code",
   "execution_count": 17,
   "id": "32ff21ea",
   "metadata": {},
   "outputs": [],
   "source": [
    "# Separate KEGG and GO results for up-regulated\n",
    "sig_go_results_up = up_enrichment[up_enrichment[\"source\"].str.contains(\"GO\")]\n",
    "sig_kegg_results_up = up_enrichment[up_enrichment[\"source\"] == \"KEGG\"]"
   ]
  },
  {
   "cell_type": "code",
   "execution_count": 18,
   "id": "255b5faf",
   "metadata": {},
   "outputs": [
    {
     "data": {
      "text/html": [
       "<div>\n",
       "<style scoped>\n",
       "    .dataframe tbody tr th:only-of-type {\n",
       "        vertical-align: middle;\n",
       "    }\n",
       "\n",
       "    .dataframe tbody tr th {\n",
       "        vertical-align: top;\n",
       "    }\n",
       "\n",
       "    .dataframe thead th {\n",
       "        text-align: right;\n",
       "    }\n",
       "</style>\n",
       "<table border=\"1\" class=\"dataframe\">\n",
       "  <thead>\n",
       "    <tr style=\"text-align: right;\">\n",
       "      <th></th>\n",
       "      <th>source</th>\n",
       "      <th>native</th>\n",
       "      <th>name</th>\n",
       "      <th>p_value</th>\n",
       "      <th>significant</th>\n",
       "      <th>description</th>\n",
       "      <th>term_size</th>\n",
       "      <th>query_size</th>\n",
       "      <th>intersection_size</th>\n",
       "      <th>effective_domain_size</th>\n",
       "      <th>precision</th>\n",
       "      <th>recall</th>\n",
       "      <th>query</th>\n",
       "      <th>parents</th>\n",
       "    </tr>\n",
       "  </thead>\n",
       "  <tbody>\n",
       "    <tr>\n",
       "      <th>0</th>\n",
       "      <td>GO:BP</td>\n",
       "      <td>GO:0009408</td>\n",
       "      <td>response to heat</td>\n",
       "      <td>3.166708e-28</td>\n",
       "      <td>True</td>\n",
       "      <td>\"Any process that results in a change in state...</td>\n",
       "      <td>229</td>\n",
       "      <td>562</td>\n",
       "      <td>43</td>\n",
       "      <td>31857</td>\n",
       "      <td>0.076512</td>\n",
       "      <td>0.187773</td>\n",
       "      <td>query_1</td>\n",
       "      <td>[GO:0006950, GO:0009266]</td>\n",
       "    </tr>\n",
       "    <tr>\n",
       "      <th>1</th>\n",
       "      <td>GO:BP</td>\n",
       "      <td>GO:0051259</td>\n",
       "      <td>protein complex oligomerization</td>\n",
       "      <td>1.712841e-26</td>\n",
       "      <td>True</td>\n",
       "      <td>\"The process of creating protein oligomers, co...</td>\n",
       "      <td>64</td>\n",
       "      <td>562</td>\n",
       "      <td>26</td>\n",
       "      <td>31857</td>\n",
       "      <td>0.046263</td>\n",
       "      <td>0.406250</td>\n",
       "      <td>query_1</td>\n",
       "      <td>[GO:0065003]</td>\n",
       "    </tr>\n",
       "  </tbody>\n",
       "</table>\n",
       "</div>"
      ],
      "text/plain": [
       "  source      native                             name       p_value  \\\n",
       "0  GO:BP  GO:0009408                 response to heat  3.166708e-28   \n",
       "1  GO:BP  GO:0051259  protein complex oligomerization  1.712841e-26   \n",
       "\n",
       "   significant                                        description  term_size  \\\n",
       "0         True  \"Any process that results in a change in state...        229   \n",
       "1         True  \"The process of creating protein oligomers, co...         64   \n",
       "\n",
       "   query_size  intersection_size  effective_domain_size  precision    recall  \\\n",
       "0         562                 43                  31857   0.076512  0.187773   \n",
       "1         562                 26                  31857   0.046263  0.406250   \n",
       "\n",
       "     query                   parents  \n",
       "0  query_1  [GO:0006950, GO:0009266]  \n",
       "1  query_1              [GO:0065003]  "
      ]
     },
     "execution_count": 18,
     "metadata": {},
     "output_type": "execute_result"
    }
   ],
   "source": [
    "sig_go_results_up.head(2)"
   ]
  },
  {
   "cell_type": "code",
   "execution_count": 19,
   "id": "9b8b754c",
   "metadata": {},
   "outputs": [
    {
     "name": "stdout",
     "output_type": "stream",
     "text": [
      "Significant up-regulated GO terms: 149\n"
     ]
    }
   ],
   "source": [
    "print(f\"Significant up-regulated GO terms: {len(sig_go_results_up)}\")"
   ]
  },
  {
   "cell_type": "code",
   "execution_count": 20,
   "id": "fda09fae",
   "metadata": {},
   "outputs": [
    {
     "data": {
      "text/html": [
       "<div>\n",
       "<style scoped>\n",
       "    .dataframe tbody tr th:only-of-type {\n",
       "        vertical-align: middle;\n",
       "    }\n",
       "\n",
       "    .dataframe tbody tr th {\n",
       "        vertical-align: top;\n",
       "    }\n",
       "\n",
       "    .dataframe thead th {\n",
       "        text-align: right;\n",
       "    }\n",
       "</style>\n",
       "<table border=\"1\" class=\"dataframe\">\n",
       "  <thead>\n",
       "    <tr style=\"text-align: right;\">\n",
       "      <th></th>\n",
       "      <th>source</th>\n",
       "      <th>native</th>\n",
       "      <th>name</th>\n",
       "      <th>p_value</th>\n",
       "      <th>significant</th>\n",
       "      <th>description</th>\n",
       "      <th>term_size</th>\n",
       "      <th>query_size</th>\n",
       "      <th>intersection_size</th>\n",
       "      <th>effective_domain_size</th>\n",
       "      <th>precision</th>\n",
       "      <th>recall</th>\n",
       "      <th>query</th>\n",
       "      <th>parents</th>\n",
       "    </tr>\n",
       "  </thead>\n",
       "  <tbody>\n",
       "  </tbody>\n",
       "</table>\n",
       "</div>"
      ],
      "text/plain": [
       "Empty DataFrame\n",
       "Columns: [source, native, name, p_value, significant, description, term_size, query_size, intersection_size, effective_domain_size, precision, recall, query, parents]\n",
       "Index: []"
      ]
     },
     "execution_count": 20,
     "metadata": {},
     "output_type": "execute_result"
    }
   ],
   "source": [
    "sig_kegg_results_up.head()"
   ]
  },
  {
   "cell_type": "code",
   "execution_count": 21,
   "id": "c0a23296",
   "metadata": {},
   "outputs": [
    {
     "name": "stdout",
     "output_type": "stream",
     "text": [
      "Significant up-regulated KEGG terms: 0\n"
     ]
    }
   ],
   "source": [
    "print(f\"Significant up-regulated KEGG terms: {len(sig_kegg_results_up)}\")"
   ]
  },
  {
   "cell_type": "code",
   "execution_count": null,
   "id": "5cfac9fa",
   "metadata": {},
   "outputs": [],
   "source": []
  },
  {
   "cell_type": "code",
   "execution_count": 22,
   "id": "7daf1c96",
   "metadata": {},
   "outputs": [
    {
     "data": {
      "text/html": [
       "<div>\n",
       "<style scoped>\n",
       "    .dataframe tbody tr th:only-of-type {\n",
       "        vertical-align: middle;\n",
       "    }\n",
       "\n",
       "    .dataframe tbody tr th {\n",
       "        vertical-align: top;\n",
       "    }\n",
       "\n",
       "    .dataframe thead th {\n",
       "        text-align: right;\n",
       "    }\n",
       "</style>\n",
       "<table border=\"1\" class=\"dataframe\">\n",
       "  <thead>\n",
       "    <tr style=\"text-align: right;\">\n",
       "      <th></th>\n",
       "      <th>source</th>\n",
       "      <th>native</th>\n",
       "      <th>name</th>\n",
       "      <th>p_value</th>\n",
       "      <th>significant</th>\n",
       "      <th>description</th>\n",
       "      <th>term_size</th>\n",
       "      <th>query_size</th>\n",
       "      <th>intersection_size</th>\n",
       "      <th>effective_domain_size</th>\n",
       "      <th>precision</th>\n",
       "      <th>recall</th>\n",
       "      <th>query</th>\n",
       "      <th>parents</th>\n",
       "    </tr>\n",
       "  </thead>\n",
       "  <tbody>\n",
       "    <tr>\n",
       "      <th>0</th>\n",
       "      <td>GO:CC</td>\n",
       "      <td>GO:0009522</td>\n",
       "      <td>photosystem I</td>\n",
       "      <td>2.870889e-21</td>\n",
       "      <td>True</td>\n",
       "      <td>\"A photosystem that contains an iron-sulfur re...</td>\n",
       "      <td>76</td>\n",
       "      <td>380</td>\n",
       "      <td>21</td>\n",
       "      <td>33182</td>\n",
       "      <td>0.055263</td>\n",
       "      <td>0.276316</td>\n",
       "      <td>query_1</td>\n",
       "      <td>[GO:0009521]</td>\n",
       "    </tr>\n",
       "    <tr>\n",
       "      <th>1</th>\n",
       "      <td>GO:BP</td>\n",
       "      <td>GO:0009768</td>\n",
       "      <td>photosynthesis, light harvesting in photosystem I</td>\n",
       "      <td>6.369240e-20</td>\n",
       "      <td>True</td>\n",
       "      <td>\"After a photon of light is absorbed by one of...</td>\n",
       "      <td>39</td>\n",
       "      <td>385</td>\n",
       "      <td>17</td>\n",
       "      <td>31857</td>\n",
       "      <td>0.044156</td>\n",
       "      <td>0.435897</td>\n",
       "      <td>query_1</td>\n",
       "      <td>[GO:0009765]</td>\n",
       "    </tr>\n",
       "    <tr>\n",
       "      <th>2</th>\n",
       "      <td>GO:CC</td>\n",
       "      <td>GO:0031976</td>\n",
       "      <td>plastid thylakoid</td>\n",
       "      <td>1.288121e-19</td>\n",
       "      <td>True</td>\n",
       "      <td>\"Any thylakoid within a plastid.\" [GOC:pz]</td>\n",
       "      <td>378</td>\n",
       "      <td>380</td>\n",
       "      <td>35</td>\n",
       "      <td>33182</td>\n",
       "      <td>0.092105</td>\n",
       "      <td>0.092593</td>\n",
       "      <td>query_1</td>\n",
       "      <td>[GO:0009536, GO:0009579]</td>\n",
       "    </tr>\n",
       "  </tbody>\n",
       "</table>\n",
       "</div>"
      ],
      "text/plain": [
       "  source      native                                               name  \\\n",
       "0  GO:CC  GO:0009522                                      photosystem I   \n",
       "1  GO:BP  GO:0009768  photosynthesis, light harvesting in photosystem I   \n",
       "2  GO:CC  GO:0031976                                  plastid thylakoid   \n",
       "\n",
       "        p_value  significant  \\\n",
       "0  2.870889e-21         True   \n",
       "1  6.369240e-20         True   \n",
       "2  1.288121e-19         True   \n",
       "\n",
       "                                         description  term_size  query_size  \\\n",
       "0  \"A photosystem that contains an iron-sulfur re...         76         380   \n",
       "1  \"After a photon of light is absorbed by one of...         39         385   \n",
       "2         \"Any thylakoid within a plastid.\" [GOC:pz]        378         380   \n",
       "\n",
       "   intersection_size  effective_domain_size  precision    recall    query  \\\n",
       "0                 21                  33182   0.055263  0.276316  query_1   \n",
       "1                 17                  31857   0.044156  0.435897  query_1   \n",
       "2                 35                  33182   0.092105  0.092593  query_1   \n",
       "\n",
       "                    parents  \n",
       "0              [GO:0009521]  \n",
       "1              [GO:0009765]  \n",
       "2  [GO:0009536, GO:0009579]  "
      ]
     },
     "execution_count": 22,
     "metadata": {},
     "output_type": "execute_result"
    }
   ],
   "source": [
    "down_enrichment.head(3)"
   ]
  },
  {
   "cell_type": "code",
   "execution_count": 23,
   "id": "2067a1eb",
   "metadata": {},
   "outputs": [
    {
     "name": "stdout",
     "output_type": "stream",
     "text": [
      "Significant down-regulated GO KEGG terms: 153\n"
     ]
    }
   ],
   "source": [
    "print(f\"Significant down-regulated GO KEGG terms: {len(down_enrichment)}\")"
   ]
  },
  {
   "cell_type": "code",
   "execution_count": 24,
   "id": "b69d854a",
   "metadata": {},
   "outputs": [],
   "source": [
    "# Separate KEGG and GO results for down-regulated\n",
    "sig_go_results_down = down_enrichment[down_enrichment[\"source\"].str.contains(\"GO\")]\n",
    "sig_kegg_results_down = down_enrichment[down_enrichment[\"source\"] == \"KEGG\"]"
   ]
  },
  {
   "cell_type": "code",
   "execution_count": 25,
   "id": "8688bf4c",
   "metadata": {},
   "outputs": [
    {
     "data": {
      "text/html": [
       "<div>\n",
       "<style scoped>\n",
       "    .dataframe tbody tr th:only-of-type {\n",
       "        vertical-align: middle;\n",
       "    }\n",
       "\n",
       "    .dataframe tbody tr th {\n",
       "        vertical-align: top;\n",
       "    }\n",
       "\n",
       "    .dataframe thead th {\n",
       "        text-align: right;\n",
       "    }\n",
       "</style>\n",
       "<table border=\"1\" class=\"dataframe\">\n",
       "  <thead>\n",
       "    <tr style=\"text-align: right;\">\n",
       "      <th></th>\n",
       "      <th>source</th>\n",
       "      <th>native</th>\n",
       "      <th>name</th>\n",
       "      <th>p_value</th>\n",
       "      <th>significant</th>\n",
       "      <th>description</th>\n",
       "      <th>term_size</th>\n",
       "      <th>query_size</th>\n",
       "      <th>intersection_size</th>\n",
       "      <th>effective_domain_size</th>\n",
       "      <th>precision</th>\n",
       "      <th>recall</th>\n",
       "      <th>query</th>\n",
       "      <th>parents</th>\n",
       "    </tr>\n",
       "  </thead>\n",
       "  <tbody>\n",
       "    <tr>\n",
       "      <th>0</th>\n",
       "      <td>GO:CC</td>\n",
       "      <td>GO:0009522</td>\n",
       "      <td>photosystem I</td>\n",
       "      <td>2.870889e-21</td>\n",
       "      <td>True</td>\n",
       "      <td>\"A photosystem that contains an iron-sulfur re...</td>\n",
       "      <td>76</td>\n",
       "      <td>380</td>\n",
       "      <td>21</td>\n",
       "      <td>33182</td>\n",
       "      <td>0.055263</td>\n",
       "      <td>0.276316</td>\n",
       "      <td>query_1</td>\n",
       "      <td>[GO:0009521]</td>\n",
       "    </tr>\n",
       "    <tr>\n",
       "      <th>1</th>\n",
       "      <td>GO:BP</td>\n",
       "      <td>GO:0009768</td>\n",
       "      <td>photosynthesis, light harvesting in photosystem I</td>\n",
       "      <td>6.369240e-20</td>\n",
       "      <td>True</td>\n",
       "      <td>\"After a photon of light is absorbed by one of...</td>\n",
       "      <td>39</td>\n",
       "      <td>385</td>\n",
       "      <td>17</td>\n",
       "      <td>31857</td>\n",
       "      <td>0.044156</td>\n",
       "      <td>0.435897</td>\n",
       "      <td>query_1</td>\n",
       "      <td>[GO:0009765]</td>\n",
       "    </tr>\n",
       "  </tbody>\n",
       "</table>\n",
       "</div>"
      ],
      "text/plain": [
       "  source      native                                               name  \\\n",
       "0  GO:CC  GO:0009522                                      photosystem I   \n",
       "1  GO:BP  GO:0009768  photosynthesis, light harvesting in photosystem I   \n",
       "\n",
       "        p_value  significant  \\\n",
       "0  2.870889e-21         True   \n",
       "1  6.369240e-20         True   \n",
       "\n",
       "                                         description  term_size  query_size  \\\n",
       "0  \"A photosystem that contains an iron-sulfur re...         76         380   \n",
       "1  \"After a photon of light is absorbed by one of...         39         385   \n",
       "\n",
       "   intersection_size  effective_domain_size  precision    recall    query  \\\n",
       "0                 21                  33182   0.055263  0.276316  query_1   \n",
       "1                 17                  31857   0.044156  0.435897  query_1   \n",
       "\n",
       "        parents  \n",
       "0  [GO:0009521]  \n",
       "1  [GO:0009765]  "
      ]
     },
     "execution_count": 25,
     "metadata": {},
     "output_type": "execute_result"
    }
   ],
   "source": [
    "sig_go_results_down.head(2)"
   ]
  },
  {
   "cell_type": "code",
   "execution_count": 26,
   "id": "306ad974",
   "metadata": {},
   "outputs": [
    {
     "name": "stdout",
     "output_type": "stream",
     "text": [
      "Significant down-regulated GO terms: 153\n"
     ]
    }
   ],
   "source": [
    "print(f\"Significant down-regulated GO terms: {len(sig_go_results_down)}\")"
   ]
  },
  {
   "cell_type": "code",
   "execution_count": 27,
   "id": "dfacfa03",
   "metadata": {},
   "outputs": [
    {
     "data": {
      "text/html": [
       "<div>\n",
       "<style scoped>\n",
       "    .dataframe tbody tr th:only-of-type {\n",
       "        vertical-align: middle;\n",
       "    }\n",
       "\n",
       "    .dataframe tbody tr th {\n",
       "        vertical-align: top;\n",
       "    }\n",
       "\n",
       "    .dataframe thead th {\n",
       "        text-align: right;\n",
       "    }\n",
       "</style>\n",
       "<table border=\"1\" class=\"dataframe\">\n",
       "  <thead>\n",
       "    <tr style=\"text-align: right;\">\n",
       "      <th></th>\n",
       "      <th>source</th>\n",
       "      <th>native</th>\n",
       "      <th>name</th>\n",
       "      <th>p_value</th>\n",
       "      <th>significant</th>\n",
       "      <th>description</th>\n",
       "      <th>term_size</th>\n",
       "      <th>query_size</th>\n",
       "      <th>intersection_size</th>\n",
       "      <th>effective_domain_size</th>\n",
       "      <th>precision</th>\n",
       "      <th>recall</th>\n",
       "      <th>query</th>\n",
       "      <th>parents</th>\n",
       "    </tr>\n",
       "  </thead>\n",
       "  <tbody>\n",
       "  </tbody>\n",
       "</table>\n",
       "</div>"
      ],
      "text/plain": [
       "Empty DataFrame\n",
       "Columns: [source, native, name, p_value, significant, description, term_size, query_size, intersection_size, effective_domain_size, precision, recall, query, parents]\n",
       "Index: []"
      ]
     },
     "execution_count": 27,
     "metadata": {},
     "output_type": "execute_result"
    }
   ],
   "source": [
    "sig_kegg_results_down.head(2)"
   ]
  },
  {
   "cell_type": "code",
   "execution_count": 28,
   "id": "58d8f799",
   "metadata": {},
   "outputs": [
    {
     "name": "stdout",
     "output_type": "stream",
     "text": [
      "Significant down-regulated KEGG terms: 0\n"
     ]
    }
   ],
   "source": [
    "print(f\"Significant down-regulated KEGG terms: {len(sig_kegg_results_down)}\")"
   ]
  },
  {
   "cell_type": "code",
   "execution_count": null,
   "id": "7d8f2056",
   "metadata": {},
   "outputs": [],
   "source": []
  },
  {
   "cell_type": "code",
   "execution_count": 29,
   "id": "f5b25e73",
   "metadata": {},
   "outputs": [],
   "source": [
    "# Save results\n",
    "\n",
    "sig_go_results_up.to_csv(\"GO_enrichment_up_regulated_soybean_14dpi.csv\", index=False)\n",
    "sig_go_results_down.to_csv(\"GO_enrichment_down_regulated_soybean_14dpi.csv\", index=False)"
   ]
  },
  {
   "cell_type": "code",
   "execution_count": null,
   "id": "34006041",
   "metadata": {},
   "outputs": [],
   "source": []
  },
  {
   "cell_type": "code",
   "execution_count": null,
   "id": "b8074e38",
   "metadata": {},
   "outputs": [],
   "source": []
  },
  {
   "cell_type": "code",
   "execution_count": 30,
   "id": "60429338",
   "metadata": {},
   "outputs": [],
   "source": [
    "# GO Enrichment Visualization\n",
    "# Up_regulated genes"
   ]
  },
  {
   "cell_type": "code",
   "execution_count": 31,
   "id": "dc36837e",
   "metadata": {},
   "outputs": [],
   "source": [
    "import textwrap\n",
    "import matplotlib.patches as mpatches"
   ]
  },
  {
   "cell_type": "code",
   "execution_count": 32,
   "id": "68827d5c",
   "metadata": {},
   "outputs": [],
   "source": [
    "# Load GO enrichment data for up_regulated genes\n",
    "file_path = \"GO_enrichment_up_regulated_soybean_14dpi.csv\"\n",
    "df = pd.read_csv(file_path)"
   ]
  },
  {
   "cell_type": "code",
   "execution_count": 33,
   "id": "10e81a97",
   "metadata": {},
   "outputs": [
    {
     "data": {
      "text/html": [
       "<div>\n",
       "<style scoped>\n",
       "    .dataframe tbody tr th:only-of-type {\n",
       "        vertical-align: middle;\n",
       "    }\n",
       "\n",
       "    .dataframe tbody tr th {\n",
       "        vertical-align: top;\n",
       "    }\n",
       "\n",
       "    .dataframe thead th {\n",
       "        text-align: right;\n",
       "    }\n",
       "</style>\n",
       "<table border=\"1\" class=\"dataframe\">\n",
       "  <thead>\n",
       "    <tr style=\"text-align: right;\">\n",
       "      <th></th>\n",
       "      <th>source</th>\n",
       "      <th>native</th>\n",
       "      <th>name</th>\n",
       "      <th>p_value</th>\n",
       "      <th>significant</th>\n",
       "      <th>description</th>\n",
       "      <th>term_size</th>\n",
       "      <th>query_size</th>\n",
       "      <th>intersection_size</th>\n",
       "      <th>effective_domain_size</th>\n",
       "      <th>precision</th>\n",
       "      <th>recall</th>\n",
       "      <th>query</th>\n",
       "      <th>parents</th>\n",
       "    </tr>\n",
       "  </thead>\n",
       "  <tbody>\n",
       "    <tr>\n",
       "      <th>0</th>\n",
       "      <td>GO:BP</td>\n",
       "      <td>GO:0009408</td>\n",
       "      <td>response to heat</td>\n",
       "      <td>3.166708e-28</td>\n",
       "      <td>True</td>\n",
       "      <td>\"Any process that results in a change in state...</td>\n",
       "      <td>229</td>\n",
       "      <td>562</td>\n",
       "      <td>43</td>\n",
       "      <td>31857</td>\n",
       "      <td>0.076512</td>\n",
       "      <td>0.187773</td>\n",
       "      <td>query_1</td>\n",
       "      <td>['GO:0006950', 'GO:0009266']</td>\n",
       "    </tr>\n",
       "    <tr>\n",
       "      <th>1</th>\n",
       "      <td>GO:BP</td>\n",
       "      <td>GO:0051259</td>\n",
       "      <td>protein complex oligomerization</td>\n",
       "      <td>1.712841e-26</td>\n",
       "      <td>True</td>\n",
       "      <td>\"The process of creating protein oligomers, co...</td>\n",
       "      <td>64</td>\n",
       "      <td>562</td>\n",
       "      <td>26</td>\n",
       "      <td>31857</td>\n",
       "      <td>0.046263</td>\n",
       "      <td>0.406250</td>\n",
       "      <td>query_1</td>\n",
       "      <td>['GO:0065003']</td>\n",
       "    </tr>\n",
       "    <tr>\n",
       "      <th>2</th>\n",
       "      <td>GO:BP</td>\n",
       "      <td>GO:0042542</td>\n",
       "      <td>response to hydrogen peroxide</td>\n",
       "      <td>1.712841e-26</td>\n",
       "      <td>True</td>\n",
       "      <td>\"Any process that results in a change in state...</td>\n",
       "      <td>71</td>\n",
       "      <td>562</td>\n",
       "      <td>27</td>\n",
       "      <td>31857</td>\n",
       "      <td>0.048043</td>\n",
       "      <td>0.380282</td>\n",
       "      <td>query_1</td>\n",
       "      <td>['GO:0000302']</td>\n",
       "    </tr>\n",
       "  </tbody>\n",
       "</table>\n",
       "</div>"
      ],
      "text/plain": [
       "  source      native                             name       p_value  \\\n",
       "0  GO:BP  GO:0009408                 response to heat  3.166708e-28   \n",
       "1  GO:BP  GO:0051259  protein complex oligomerization  1.712841e-26   \n",
       "2  GO:BP  GO:0042542    response to hydrogen peroxide  1.712841e-26   \n",
       "\n",
       "   significant                                        description  term_size  \\\n",
       "0         True  \"Any process that results in a change in state...        229   \n",
       "1         True  \"The process of creating protein oligomers, co...         64   \n",
       "2         True  \"Any process that results in a change in state...         71   \n",
       "\n",
       "   query_size  intersection_size  effective_domain_size  precision    recall  \\\n",
       "0         562                 43                  31857   0.076512  0.187773   \n",
       "1         562                 26                  31857   0.046263  0.406250   \n",
       "2         562                 27                  31857   0.048043  0.380282   \n",
       "\n",
       "     query                       parents  \n",
       "0  query_1  ['GO:0006950', 'GO:0009266']  \n",
       "1  query_1                ['GO:0065003']  \n",
       "2  query_1                ['GO:0000302']  "
      ]
     },
     "execution_count": 33,
     "metadata": {},
     "output_type": "execute_result"
    }
   ],
   "source": [
    "df.head(3)"
   ]
  },
  {
   "cell_type": "code",
   "execution_count": 34,
   "id": "e5b042a9",
   "metadata": {},
   "outputs": [],
   "source": [
    "# Convert p-values and compute -log10(p-value)\n",
    "df['-log10(p-value)'] = -np.log10(df['p_value'].astype(float))"
   ]
  },
  {
   "cell_type": "code",
   "execution_count": 35,
   "id": "e8ce7172",
   "metadata": {},
   "outputs": [],
   "source": [
    "# Define GO categories and colors\n",
    "category_colors = {\n",
    "    'GO:BP': 'red',    # Biological Process\n",
    "    'GO:MF': 'green',  # Molecular Function\n",
    "    'GO:CC': 'blue'    # Cellular Component\n",
    "}"
   ]
  },
  {
   "cell_type": "code",
   "execution_count": 36,
   "id": "b9097231",
   "metadata": {},
   "outputs": [],
   "source": [
    "# Assign colors based on category\n",
    "df['color'] = df['source'].map(category_colors)"
   ]
  },
  {
   "cell_type": "code",
   "execution_count": 37,
   "id": "93cbc58f",
   "metadata": {},
   "outputs": [],
   "source": [
    "# Get top 10 for each category (BP, CC, MF)\n",
    "top_bp = df[df['source'] == 'GO:BP'].nlargest(10, '-log10(p-value)')\n",
    "top_cc = df[df['source'] == 'GO:CC'].nlargest(10, '-log10(p-value)')\n",
    "top_mf = df[df['source'] == 'GO:MF'].nlargest(10, '-log10(p-value)')"
   ]
  },
  {
   "cell_type": "code",
   "execution_count": 38,
   "id": "c0e2a683",
   "metadata": {},
   "outputs": [],
   "source": [
    "# Combine top GO terms from each category\n",
    "df_top = pd.concat([top_bp, top_cc, top_mf])"
   ]
  },
  {
   "cell_type": "code",
   "execution_count": 39,
   "id": "208ee44a",
   "metadata": {},
   "outputs": [
    {
     "data": {
      "text/html": [
       "<div>\n",
       "<style scoped>\n",
       "    .dataframe tbody tr th:only-of-type {\n",
       "        vertical-align: middle;\n",
       "    }\n",
       "\n",
       "    .dataframe tbody tr th {\n",
       "        vertical-align: top;\n",
       "    }\n",
       "\n",
       "    .dataframe thead th {\n",
       "        text-align: right;\n",
       "    }\n",
       "</style>\n",
       "<table border=\"1\" class=\"dataframe\">\n",
       "  <thead>\n",
       "    <tr style=\"text-align: right;\">\n",
       "      <th></th>\n",
       "      <th>source</th>\n",
       "      <th>native</th>\n",
       "      <th>name</th>\n",
       "      <th>p_value</th>\n",
       "      <th>significant</th>\n",
       "      <th>description</th>\n",
       "      <th>term_size</th>\n",
       "      <th>query_size</th>\n",
       "      <th>intersection_size</th>\n",
       "      <th>effective_domain_size</th>\n",
       "      <th>precision</th>\n",
       "      <th>recall</th>\n",
       "      <th>query</th>\n",
       "      <th>parents</th>\n",
       "      <th>-log10(p-value)</th>\n",
       "      <th>color</th>\n",
       "    </tr>\n",
       "  </thead>\n",
       "  <tbody>\n",
       "    <tr>\n",
       "      <th>0</th>\n",
       "      <td>GO:BP</td>\n",
       "      <td>GO:0009408</td>\n",
       "      <td>response to heat</td>\n",
       "      <td>3.166708e-28</td>\n",
       "      <td>True</td>\n",
       "      <td>\"Any process that results in a change in state...</td>\n",
       "      <td>229</td>\n",
       "      <td>562</td>\n",
       "      <td>43</td>\n",
       "      <td>31857</td>\n",
       "      <td>0.076512</td>\n",
       "      <td>0.187773</td>\n",
       "      <td>query_1</td>\n",
       "      <td>['GO:0006950', 'GO:0009266']</td>\n",
       "      <td>27.499392</td>\n",
       "      <td>red</td>\n",
       "    </tr>\n",
       "    <tr>\n",
       "      <th>1</th>\n",
       "      <td>GO:BP</td>\n",
       "      <td>GO:0051259</td>\n",
       "      <td>protein complex oligomerization</td>\n",
       "      <td>1.712841e-26</td>\n",
       "      <td>True</td>\n",
       "      <td>\"The process of creating protein oligomers, co...</td>\n",
       "      <td>64</td>\n",
       "      <td>562</td>\n",
       "      <td>26</td>\n",
       "      <td>31857</td>\n",
       "      <td>0.046263</td>\n",
       "      <td>0.406250</td>\n",
       "      <td>query_1</td>\n",
       "      <td>['GO:0065003']</td>\n",
       "      <td>25.766283</td>\n",
       "      <td>red</td>\n",
       "    </tr>\n",
       "  </tbody>\n",
       "</table>\n",
       "</div>"
      ],
      "text/plain": [
       "  source      native                             name       p_value  \\\n",
       "0  GO:BP  GO:0009408                 response to heat  3.166708e-28   \n",
       "1  GO:BP  GO:0051259  protein complex oligomerization  1.712841e-26   \n",
       "\n",
       "   significant                                        description  term_size  \\\n",
       "0         True  \"Any process that results in a change in state...        229   \n",
       "1         True  \"The process of creating protein oligomers, co...         64   \n",
       "\n",
       "   query_size  intersection_size  effective_domain_size  precision    recall  \\\n",
       "0         562                 43                  31857   0.076512  0.187773   \n",
       "1         562                 26                  31857   0.046263  0.406250   \n",
       "\n",
       "     query                       parents  -log10(p-value) color  \n",
       "0  query_1  ['GO:0006950', 'GO:0009266']        27.499392   red  \n",
       "1  query_1                ['GO:0065003']        25.766283   red  "
      ]
     },
     "execution_count": 39,
     "metadata": {},
     "output_type": "execute_result"
    }
   ],
   "source": [
    "df_top.head(2)"
   ]
  },
  {
   "cell_type": "code",
   "execution_count": 40,
   "id": "ca016f12",
   "metadata": {},
   "outputs": [],
   "source": [
    "# Wrap long text labels (GO term names)\n",
    "df_top['name'] = df_top['name'].apply(lambda x: '\\n'.join(textwrap.wrap(x, width=65)))"
   ]
  },
  {
   "cell_type": "code",
   "execution_count": 41,
   "id": "7259d252",
   "metadata": {},
   "outputs": [
    {
     "data": {
      "image/png": "[encoded data removed]",
      "text/plain": [
       "<Figure size 1000x800 with 1 Axes>"
      ]
     },
     "metadata": {},
     "output_type": "display_data"
    }
   ],
   "source": [
    "# Plot settings\n",
    "plt.figure(figsize=(10, 8))\n",
    "y_pos = np.arange(len(df_top))\n",
    "\n",
    "# Create bar plot\n",
    "plt.barh(y_pos, df_top['-log10(p-value)'], color=df_top['color'], align='center')\n",
    "\n",
    "# Labels and formatting\n",
    "plt.yticks(y_pos, df_top['name'], fontsize=9)\n",
    "plt.xlabel('-log10(p-value)', fontsize=12)\n",
    "plt.title('GO Enrichment', fontsize=14)\n",
    "plt.gca().invert_yaxis()\n",
    "\n",
    "# Add legend\n",
    "legend_patches = [mpatches.Patch(color=color, label=label) for label, color in category_colors.items()]\n",
    "plt.legend(handles=legend_patches, title=\"GO Categories\")\n",
    "\n",
    "# Save and show\n",
    "plt.tight_layout()\n",
    "plt.savefig(\"go_enrichment_up_regulated_14dpi.png\", dpi=600)\n",
    "plt.show()"
   ]
  },
  {
   "cell_type": "code",
   "execution_count": null,
   "id": "323a5509",
   "metadata": {},
   "outputs": [],
   "source": []
  },
  {
   "cell_type": "code",
   "execution_count": 42,
   "id": "71f93972",
   "metadata": {},
   "outputs": [],
   "source": [
    "# GO Enrichment Visualization\n",
    "# Down_regulated genes"
   ]
  },
  {
   "cell_type": "code",
   "execution_count": 44,
   "id": "52719d66",
   "metadata": {},
   "outputs": [],
   "source": [
    "# Load GO enrichment data for down_regulated genes\n",
    "file_path = \"GO_enrichment_down_regulated_soybean_14dpi.csv\"\n",
    "data = pd.read_csv(file_path)"
   ]
  },
  {
   "cell_type": "code",
   "execution_count": 45,
   "id": "bbb6b9c6",
   "metadata": {},
   "outputs": [
    {
     "data": {
      "text/html": [
       "<div>\n",
       "<style scoped>\n",
       "    .dataframe tbody tr th:only-of-type {\n",
       "        vertical-align: middle;\n",
       "    }\n",
       "\n",
       "    .dataframe tbody tr th {\n",
       "        vertical-align: top;\n",
       "    }\n",
       "\n",
       "    .dataframe thead th {\n",
       "        text-align: right;\n",
       "    }\n",
       "</style>\n",
       "<table border=\"1\" class=\"dataframe\">\n",
       "  <thead>\n",
       "    <tr style=\"text-align: right;\">\n",
       "      <th></th>\n",
       "      <th>source</th>\n",
       "      <th>native</th>\n",
       "      <th>name</th>\n",
       "      <th>p_value</th>\n",
       "      <th>significant</th>\n",
       "      <th>description</th>\n",
       "      <th>term_size</th>\n",
       "      <th>query_size</th>\n",
       "      <th>intersection_size</th>\n",
       "      <th>effective_domain_size</th>\n",
       "      <th>precision</th>\n",
       "      <th>recall</th>\n",
       "      <th>query</th>\n",
       "      <th>parents</th>\n",
       "    </tr>\n",
       "  </thead>\n",
       "  <tbody>\n",
       "    <tr>\n",
       "      <th>0</th>\n",
       "      <td>GO:CC</td>\n",
       "      <td>GO:0009522</td>\n",
       "      <td>photosystem I</td>\n",
       "      <td>2.870889e-21</td>\n",
       "      <td>True</td>\n",
       "      <td>\"A photosystem that contains an iron-sulfur re...</td>\n",
       "      <td>76</td>\n",
       "      <td>380</td>\n",
       "      <td>21</td>\n",
       "      <td>33182</td>\n",
       "      <td>0.055263</td>\n",
       "      <td>0.276316</td>\n",
       "      <td>query_1</td>\n",
       "      <td>['GO:0009521']</td>\n",
       "    </tr>\n",
       "    <tr>\n",
       "      <th>1</th>\n",
       "      <td>GO:BP</td>\n",
       "      <td>GO:0009768</td>\n",
       "      <td>photosynthesis, light harvesting in photosystem I</td>\n",
       "      <td>6.369240e-20</td>\n",
       "      <td>True</td>\n",
       "      <td>\"After a photon of light is absorbed by one of...</td>\n",
       "      <td>39</td>\n",
       "      <td>385</td>\n",
       "      <td>17</td>\n",
       "      <td>31857</td>\n",
       "      <td>0.044156</td>\n",
       "      <td>0.435897</td>\n",
       "      <td>query_1</td>\n",
       "      <td>['GO:0009765']</td>\n",
       "    </tr>\n",
       "  </tbody>\n",
       "</table>\n",
       "</div>"
      ],
      "text/plain": [
       "  source      native                                               name  \\\n",
       "0  GO:CC  GO:0009522                                      photosystem I   \n",
       "1  GO:BP  GO:0009768  photosynthesis, light harvesting in photosystem I   \n",
       "\n",
       "        p_value  significant  \\\n",
       "0  2.870889e-21         True   \n",
       "1  6.369240e-20         True   \n",
       "\n",
       "                                         description  term_size  query_size  \\\n",
       "0  \"A photosystem that contains an iron-sulfur re...         76         380   \n",
       "1  \"After a photon of light is absorbed by one of...         39         385   \n",
       "\n",
       "   intersection_size  effective_domain_size  precision    recall    query  \\\n",
       "0                 21                  33182   0.055263  0.276316  query_1   \n",
       "1                 17                  31857   0.044156  0.435897  query_1   \n",
       "\n",
       "          parents  \n",
       "0  ['GO:0009521']  \n",
       "1  ['GO:0009765']  "
      ]
     },
     "execution_count": 45,
     "metadata": {},
     "output_type": "execute_result"
    }
   ],
   "source": [
    "data.head(2)"
   ]
  },
  {
   "cell_type": "code",
   "execution_count": 46,
   "id": "0aaf5ce7",
   "metadata": {},
   "outputs": [],
   "source": [
    "# Convert p-values and compute -log10(p-value)\n",
    "data['-log10(p-value)'] = -np.log10(data['p_value'].astype(float))"
   ]
  },
  {
   "cell_type": "code",
   "execution_count": 47,
   "id": "e83f5f4e",
   "metadata": {},
   "outputs": [],
   "source": [
    "# Define GO categories and colors\n",
    "category_colors = {\n",
    "    'GO:BP': 'red',    # Biological Process\n",
    "    'GO:MF': 'green',  # Molecular Function\n",
    "    'GO:CC': 'blue'    # Cellular Component\n",
    "}"
   ]
  },
  {
   "cell_type": "code",
   "execution_count": 48,
   "id": "40fc8300",
   "metadata": {},
   "outputs": [],
   "source": [
    "# Assign colors based on category\n",
    "data['color'] = data['source'].map(category_colors)"
   ]
  },
  {
   "cell_type": "code",
   "execution_count": 49,
   "id": "5b7a2f93",
   "metadata": {},
   "outputs": [],
   "source": [
    "# Get top 10 for each category (BP, CC, MF)\n",
    "top_bp = data[data['source'] == 'GO:BP'].nlargest(10, '-log10(p-value)')\n",
    "top_cc = data[data['source'] == 'GO:CC'].nlargest(10, '-log10(p-value)')\n",
    "top_mf = data[data['source'] == 'GO:MF'].nlargest(10, '-log10(p-value)')"
   ]
  },
  {
   "cell_type": "code",
   "execution_count": 50,
   "id": "20cda67b",
   "metadata": {},
   "outputs": [],
   "source": [
    "# Combine top GO terms from each category\n",
    "data_top = pd.concat([top_bp, top_cc, top_mf])"
   ]
  },
  {
   "cell_type": "code",
   "execution_count": 51,
   "id": "beda0c88",
   "metadata": {},
   "outputs": [
    {
     "data": {
      "text/html": [
       "<div>\n",
       "<style scoped>\n",
       "    .dataframe tbody tr th:only-of-type {\n",
       "        vertical-align: middle;\n",
       "    }\n",
       "\n",
       "    .dataframe tbody tr th {\n",
       "        vertical-align: top;\n",
       "    }\n",
       "\n",
       "    .dataframe thead th {\n",
       "        text-align: right;\n",
       "    }\n",
       "</style>\n",
       "<table border=\"1\" class=\"dataframe\">\n",
       "  <thead>\n",
       "    <tr style=\"text-align: right;\">\n",
       "      <th></th>\n",
       "      <th>source</th>\n",
       "      <th>native</th>\n",
       "      <th>name</th>\n",
       "      <th>p_value</th>\n",
       "      <th>significant</th>\n",
       "      <th>description</th>\n",
       "      <th>term_size</th>\n",
       "      <th>query_size</th>\n",
       "      <th>intersection_size</th>\n",
       "      <th>effective_domain_size</th>\n",
       "      <th>precision</th>\n",
       "      <th>recall</th>\n",
       "      <th>query</th>\n",
       "      <th>parents</th>\n",
       "      <th>-log10(p-value)</th>\n",
       "      <th>color</th>\n",
       "    </tr>\n",
       "  </thead>\n",
       "  <tbody>\n",
       "    <tr>\n",
       "      <th>1</th>\n",
       "      <td>GO:BP</td>\n",
       "      <td>GO:0009768</td>\n",
       "      <td>photosynthesis, light harvesting in photosystem I</td>\n",
       "      <td>6.369240e-20</td>\n",
       "      <td>True</td>\n",
       "      <td>\"After a photon of light is absorbed by one of...</td>\n",
       "      <td>39</td>\n",
       "      <td>385</td>\n",
       "      <td>17</td>\n",
       "      <td>31857</td>\n",
       "      <td>0.044156</td>\n",
       "      <td>0.435897</td>\n",
       "      <td>query_1</td>\n",
       "      <td>['GO:0009765']</td>\n",
       "      <td>19.195912</td>\n",
       "      <td>red</td>\n",
       "    </tr>\n",
       "    <tr>\n",
       "      <th>13</th>\n",
       "      <td>GO:BP</td>\n",
       "      <td>GO:0009765</td>\n",
       "      <td>photosynthesis, light harvesting</td>\n",
       "      <td>1.919478e-16</td>\n",
       "      <td>True</td>\n",
       "      <td>\"Absorption and transfer of the energy absorbe...</td>\n",
       "      <td>60</td>\n",
       "      <td>385</td>\n",
       "      <td>17</td>\n",
       "      <td>31857</td>\n",
       "      <td>0.044156</td>\n",
       "      <td>0.283333</td>\n",
       "      <td>query_1</td>\n",
       "      <td>['GO:0006091', 'GO:0019684']</td>\n",
       "      <td>15.716817</td>\n",
       "      <td>red</td>\n",
       "    </tr>\n",
       "  </tbody>\n",
       "</table>\n",
       "</div>"
      ],
      "text/plain": [
       "   source      native                                               name  \\\n",
       "1   GO:BP  GO:0009768  photosynthesis, light harvesting in photosystem I   \n",
       "13  GO:BP  GO:0009765                   photosynthesis, light harvesting   \n",
       "\n",
       "         p_value  significant  \\\n",
       "1   6.369240e-20         True   \n",
       "13  1.919478e-16         True   \n",
       "\n",
       "                                          description  term_size  query_size  \\\n",
       "1   \"After a photon of light is absorbed by one of...         39         385   \n",
       "13  \"Absorption and transfer of the energy absorbe...         60         385   \n",
       "\n",
       "    intersection_size  effective_domain_size  precision    recall    query  \\\n",
       "1                  17                  31857   0.044156  0.435897  query_1   \n",
       "13                 17                  31857   0.044156  0.283333  query_1   \n",
       "\n",
       "                         parents  -log10(p-value) color  \n",
       "1                 ['GO:0009765']        19.195912   red  \n",
       "13  ['GO:0006091', 'GO:0019684']        15.716817   red  "
      ]
     },
     "execution_count": 51,
     "metadata": {},
     "output_type": "execute_result"
    }
   ],
   "source": [
    "data_top.head(2)"
   ]
  },
  {
   "cell_type": "code",
   "execution_count": 56,
   "id": "2dddc98a",
   "metadata": {},
   "outputs": [],
   "source": [
    "# Wrap long text labels (GO term names)\n",
    "data_top['name'] = data_top['name'].apply(lambda x: '\\n'.join(textwrap.wrap(x, width=65)))"
   ]
  },
  {
   "cell_type": "code",
   "execution_count": 57,
   "id": "b8512198",
   "metadata": {},
   "outputs": [
    {
     "data": {
      "image/png": "[encoded data removed]",
      "text/plain": [
       "<Figure size 1000x800 with 1 Axes>"
      ]
     },
     "metadata": {},
     "output_type": "display_data"
    }
   ],
   "source": [
    "# Plot settings\n",
    "plt.figure(figsize=(10, 8))\n",
    "y_pos = np.arange(len(data_top))\n",
    "\n",
    "# Create bar plot\n",
    "plt.barh(y_pos, data_top['-log10(p-value)'], color=data_top['color'], align='center')\n",
    "\n",
    "# Labels and formatting\n",
    "plt.yticks(y_pos, data_top['name'], fontsize=9)\n",
    "plt.xlabel('-log10(p-value)', fontsize=12)\n",
    "plt.title('GO Enrichment', fontsize=14)\n",
    "plt.gca().invert_yaxis()\n",
    "\n",
    "# Add legend\n",
    "legend_patches = [mpatches.Patch(color=color, label=label) for label, color in category_colors.items()]\n",
    "plt.legend(handles=legend_patches, title=\"GO Categories\")\n",
    "\n",
    "# Save and show\n",
    "plt.tight_layout()\n",
    "plt.savefig(\"go_enrichment_down_regulated_14dpi.png\", dpi=600)\n",
    "plt.show()"
   ]
  },
  {
   "cell_type": "code",
   "execution_count": null,
   "id": "3220cab7",
   "metadata": {},
   "outputs": [],
   "source": []
  },
  {
   "cell_type": "code",
   "execution_count": null,
   "id": "b52691da",
   "metadata": {},
   "outputs": [],
   "source": []
  },
  {
   "cell_type": "code",
   "execution_count": null,
   "id": "1276f120",
   "metadata": {},
   "outputs": [],
   "source": []
  },
  {
   "cell_type": "code",
   "execution_count": null,
   "id": "a2dcd6be",
   "metadata": {},
   "outputs": [],
   "source": []
  },
  {
   "cell_type": "code",
   "execution_count": null,
   "id": "48864939",
   "metadata": {},
   "outputs": [],
   "source": []
  }
 ],
 "metadata": {
  "kernelspec": {
   "display_name": "Python 3 (ipykernel)",
   "language": "python",
   "name": "python3"
  },
  "language_info": {
   "codemirror_mode": {
    "name": "ipython",
    "version": 3
   },
   "file_extension": ".py",
   "mimetype": "text/x-python",
   "name": "python",
   "nbconvert_exporter": "python",
   "pygments_lexer": "ipython3",
   "version": "3.11.5"
  }
 },
 "nbformat": 4,
 "nbformat_minor": 5
}
