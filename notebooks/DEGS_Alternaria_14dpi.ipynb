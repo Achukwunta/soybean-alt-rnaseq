{
 "cells": [
  {
   "cell_type": "code",
   "execution_count": null,
   "id": "8fcaf7a7",
   "metadata": {},
   "outputs": [],
   "source": []
  },
  {
   "cell_type": "code",
   "execution_count": 1,
   "id": "bb8fee4a",
   "metadata": {},
   "outputs": [],
   "source": [
    "# PyDESeq2 Workflow: Differential Expression\n",
    "# Alternaria at 14_dpi (day 14: post innoculation)"
   ]
  },
  {
   "cell_type": "code",
   "execution_count": 2,
   "id": "0a6a5945",
   "metadata": {},
   "outputs": [],
   "source": [
    "## Import Necessary Libraries"
   ]
  },
  {
   "cell_type": "code",
   "execution_count": 3,
   "id": "84d1d9b6",
   "metadata": {},
   "outputs": [],
   "source": [
    "import os\n",
    "import pandas as pd\n",
    "import numpy as np\n",
    "import pickle as pkl\n",
    "import seaborn as sns\n",
    "import matplotlib.pyplot as plt\n",
    "import matplotlib.font_manager as fm\n",
    "\n",
    "from sklearn.decomposition import PCA\n",
    "from sklearn.preprocessing import StandardScaler\n",
    "from adjustText import adjust_text\n",
    "\n",
    "from pydeseq2.dds import DeseqDataSet\n",
    "from pydeseq2.default_inference import DefaultInference\n",
    "from pydeseq2.ds import DeseqStats"
   ]
  },
  {
   "cell_type": "code",
   "execution_count": 4,
   "id": "52201124",
   "metadata": {},
   "outputs": [],
   "source": [
    "import warnings\n",
    "from warnings import filterwarnings\n",
    "filterwarnings('ignore')"
   ]
  },
  {
   "cell_type": "code",
   "execution_count": 5,
   "id": "b0156a3e",
   "metadata": {},
   "outputs": [],
   "source": [
    "## Load Data"
   ]
  },
  {
   "cell_type": "code",
   "execution_count": 6,
   "id": "0bfa24be",
   "metadata": {
    "scrolled": true
   },
   "outputs": [
    {
     "data": {
      "text/html": [
       "<div>\n",
       "<style scoped>\n",
       "    .dataframe tbody tr th:only-of-type {\n",
       "        vertical-align: middle;\n",
       "    }\n",
       "\n",
       "    .dataframe tbody tr th {\n",
       "        vertical-align: top;\n",
       "    }\n",
       "\n",
       "    .dataframe thead th {\n",
       "        text-align: right;\n",
       "    }\n",
       "</style>\n",
       "<table border=\"1\" class=\"dataframe\">\n",
       "  <thead>\n",
       "    <tr style=\"text-align: right;\">\n",
       "      <th></th>\n",
       "      <th>Geneid</th>\n",
       "      <th>Alternaria_T14_1</th>\n",
       "      <th>Alternaria_T14_2</th>\n",
       "      <th>Alternaria_T14_3</th>\n",
       "      <th>Control_T14_1</th>\n",
       "      <th>Control_T14_2</th>\n",
       "      <th>Control_T14_3</th>\n",
       "      <th>Control_T14_4</th>\n",
       "    </tr>\n",
       "  </thead>\n",
       "  <tbody>\n",
       "    <tr>\n",
       "      <th>0</th>\n",
       "      <td>AA0117_g585</td>\n",
       "      <td>0</td>\n",
       "      <td>4</td>\n",
       "      <td>16</td>\n",
       "      <td>0</td>\n",
       "      <td>0</td>\n",
       "      <td>0</td>\n",
       "      <td>0</td>\n",
       "    </tr>\n",
       "    <tr>\n",
       "      <th>1</th>\n",
       "      <td>AA0117_g1326</td>\n",
       "      <td>43</td>\n",
       "      <td>36</td>\n",
       "      <td>123</td>\n",
       "      <td>0</td>\n",
       "      <td>0</td>\n",
       "      <td>0</td>\n",
       "      <td>0</td>\n",
       "    </tr>\n",
       "    <tr>\n",
       "      <th>2</th>\n",
       "      <td>AA0117_g684</td>\n",
       "      <td>0</td>\n",
       "      <td>0</td>\n",
       "      <td>2</td>\n",
       "      <td>0</td>\n",
       "      <td>0</td>\n",
       "      <td>0</td>\n",
       "      <td>0</td>\n",
       "    </tr>\n",
       "    <tr>\n",
       "      <th>3</th>\n",
       "      <td>AA0117_g834</td>\n",
       "      <td>0</td>\n",
       "      <td>0</td>\n",
       "      <td>1</td>\n",
       "      <td>0</td>\n",
       "      <td>0</td>\n",
       "      <td>0</td>\n",
       "      <td>0</td>\n",
       "    </tr>\n",
       "    <tr>\n",
       "      <th>4</th>\n",
       "      <td>AA0117_g507</td>\n",
       "      <td>19</td>\n",
       "      <td>8</td>\n",
       "      <td>44</td>\n",
       "      <td>2</td>\n",
       "      <td>0</td>\n",
       "      <td>0</td>\n",
       "      <td>0</td>\n",
       "    </tr>\n",
       "  </tbody>\n",
       "</table>\n",
       "</div>"
      ],
      "text/plain": [
       "         Geneid  Alternaria_T14_1  Alternaria_T14_2  Alternaria_T14_3  \\\n",
       "0   AA0117_g585                 0                 4                16   \n",
       "1  AA0117_g1326                43                36               123   \n",
       "2   AA0117_g684                 0                 0                 2   \n",
       "3   AA0117_g834                 0                 0                 1   \n",
       "4   AA0117_g507                19                 8                44   \n",
       "\n",
       "   Control_T14_1  Control_T14_2  Control_T14_3  Control_T14_4  \n",
       "0              0              0              0              0  \n",
       "1              0              0              0              0  \n",
       "2              0              0              0              0  \n",
       "3              0              0              0              0  \n",
       "4              2              0              0              0  "
      ]
     },
     "execution_count": 6,
     "metadata": {},
     "output_type": "execute_result"
    }
   ],
   "source": [
    "df = pd.read_csv('combined_reads_alternaria_dpi14.csv')\n",
    "df.head()"
   ]
  },
  {
   "cell_type": "code",
   "execution_count": null,
   "id": "757e6f2d",
   "metadata": {},
   "outputs": [],
   "source": []
  },
  {
   "cell_type": "code",
   "execution_count": 7,
   "id": "46d97a0c",
   "metadata": {},
   "outputs": [
    {
     "data": {
      "text/html": [
       "<div>\n",
       "<style scoped>\n",
       "    .dataframe tbody tr th:only-of-type {\n",
       "        vertical-align: middle;\n",
       "    }\n",
       "\n",
       "    .dataframe tbody tr th {\n",
       "        vertical-align: top;\n",
       "    }\n",
       "\n",
       "    .dataframe thead th {\n",
       "        text-align: right;\n",
       "    }\n",
       "</style>\n",
       "<table border=\"1\" class=\"dataframe\">\n",
       "  <thead>\n",
       "    <tr style=\"text-align: right;\">\n",
       "      <th></th>\n",
       "      <th>Alternaria_T14_1</th>\n",
       "      <th>Alternaria_T14_2</th>\n",
       "      <th>Alternaria_T14_3</th>\n",
       "      <th>Control_T14_1</th>\n",
       "      <th>Control_T14_2</th>\n",
       "      <th>Control_T14_3</th>\n",
       "      <th>Control_T14_4</th>\n",
       "    </tr>\n",
       "    <tr>\n",
       "      <th>Geneid</th>\n",
       "      <th></th>\n",
       "      <th></th>\n",
       "      <th></th>\n",
       "      <th></th>\n",
       "      <th></th>\n",
       "      <th></th>\n",
       "      <th></th>\n",
       "    </tr>\n",
       "  </thead>\n",
       "  <tbody>\n",
       "    <tr>\n",
       "      <th>AA0117_g585</th>\n",
       "      <td>0</td>\n",
       "      <td>4</td>\n",
       "      <td>16</td>\n",
       "      <td>0</td>\n",
       "      <td>0</td>\n",
       "      <td>0</td>\n",
       "      <td>0</td>\n",
       "    </tr>\n",
       "    <tr>\n",
       "      <th>AA0117_g1326</th>\n",
       "      <td>43</td>\n",
       "      <td>36</td>\n",
       "      <td>123</td>\n",
       "      <td>0</td>\n",
       "      <td>0</td>\n",
       "      <td>0</td>\n",
       "      <td>0</td>\n",
       "    </tr>\n",
       "  </tbody>\n",
       "</table>\n",
       "</div>"
      ],
      "text/plain": [
       "              Alternaria_T14_1  Alternaria_T14_2  Alternaria_T14_3  \\\n",
       "Geneid                                                               \n",
       "AA0117_g585                  0                 4                16   \n",
       "AA0117_g1326                43                36               123   \n",
       "\n",
       "              Control_T14_1  Control_T14_2  Control_T14_3  Control_T14_4  \n",
       "Geneid                                                                    \n",
       "AA0117_g585               0              0              0              0  \n",
       "AA0117_g1326              0              0              0              0  "
      ]
     },
     "execution_count": 7,
     "metadata": {},
     "output_type": "execute_result"
    }
   ],
   "source": [
    "# set Geneid as index\n",
    "data = df.set_index('Geneid')\n",
    "data.head(2)"
   ]
  },
  {
   "cell_type": "code",
   "execution_count": null,
   "id": "11c56006",
   "metadata": {},
   "outputs": [],
   "source": []
  },
  {
   "cell_type": "code",
   "execution_count": 8,
   "id": "f76cc14f",
   "metadata": {},
   "outputs": [
    {
     "data": {
      "text/html": [
       "<div>\n",
       "<style scoped>\n",
       "    .dataframe tbody tr th:only-of-type {\n",
       "        vertical-align: middle;\n",
       "    }\n",
       "\n",
       "    .dataframe tbody tr th {\n",
       "        vertical-align: top;\n",
       "    }\n",
       "\n",
       "    .dataframe thead th {\n",
       "        text-align: right;\n",
       "    }\n",
       "</style>\n",
       "<table border=\"1\" class=\"dataframe\">\n",
       "  <thead>\n",
       "    <tr style=\"text-align: right;\">\n",
       "      <th></th>\n",
       "      <th>Alternaria_T14_1</th>\n",
       "      <th>Alternaria_T14_2</th>\n",
       "      <th>Alternaria_T14_3</th>\n",
       "      <th>Control_T14_1</th>\n",
       "      <th>Control_T14_2</th>\n",
       "      <th>Control_T14_3</th>\n",
       "      <th>Control_T14_4</th>\n",
       "    </tr>\n",
       "    <tr>\n",
       "      <th>Geneid</th>\n",
       "      <th></th>\n",
       "      <th></th>\n",
       "      <th></th>\n",
       "      <th></th>\n",
       "      <th></th>\n",
       "      <th></th>\n",
       "      <th></th>\n",
       "    </tr>\n",
       "  </thead>\n",
       "  <tbody>\n",
       "    <tr>\n",
       "      <th>AA0117_g585</th>\n",
       "      <td>0</td>\n",
       "      <td>4</td>\n",
       "      <td>16</td>\n",
       "      <td>0</td>\n",
       "      <td>0</td>\n",
       "      <td>0</td>\n",
       "      <td>0</td>\n",
       "    </tr>\n",
       "    <tr>\n",
       "      <th>AA0117_g1326</th>\n",
       "      <td>43</td>\n",
       "      <td>36</td>\n",
       "      <td>123</td>\n",
       "      <td>0</td>\n",
       "      <td>0</td>\n",
       "      <td>0</td>\n",
       "      <td>0</td>\n",
       "    </tr>\n",
       "    <tr>\n",
       "      <th>AA0117_g507</th>\n",
       "      <td>19</td>\n",
       "      <td>8</td>\n",
       "      <td>44</td>\n",
       "      <td>2</td>\n",
       "      <td>0</td>\n",
       "      <td>0</td>\n",
       "      <td>0</td>\n",
       "    </tr>\n",
       "  </tbody>\n",
       "</table>\n",
       "</div>"
      ],
      "text/plain": [
       "              Alternaria_T14_1  Alternaria_T14_2  Alternaria_T14_3  \\\n",
       "Geneid                                                               \n",
       "AA0117_g585                  0                 4                16   \n",
       "AA0117_g1326                43                36               123   \n",
       "AA0117_g507                 19                 8                44   \n",
       "\n",
       "              Control_T14_1  Control_T14_2  Control_T14_3  Control_T14_4  \n",
       "Geneid                                                                    \n",
       "AA0117_g585               0              0              0              0  \n",
       "AA0117_g1326              0              0              0              0  \n",
       "AA0117_g507               2              0              0              0  "
      ]
     },
     "execution_count": 8,
     "metadata": {},
     "output_type": "execute_result"
    }
   ],
   "source": [
    "# filter out genes and keep rows where the sum is greater than 10; then transpose\n",
    "data = data[data.sum(axis = 1) > 10]\n",
    "data.head(3)"
   ]
  },
  {
   "cell_type": "code",
   "execution_count": 9,
   "id": "c61d1901",
   "metadata": {},
   "outputs": [
    {
     "data": {
      "text/plain": [
       "5837"
      ]
     },
     "execution_count": 9,
     "metadata": {},
     "output_type": "execute_result"
    }
   ],
   "source": [
    "len(data)"
   ]
  },
  {
   "cell_type": "code",
   "execution_count": 10,
   "id": "4055aae5",
   "metadata": {},
   "outputs": [],
   "source": [
    "data.to_csv('filtered_read_counts.csv')"
   ]
  },
  {
   "cell_type": "code",
   "execution_count": 11,
   "id": "fce6f60d",
   "metadata": {},
   "outputs": [
    {
     "data": {
      "text/html": [
       "<div>\n",
       "<style scoped>\n",
       "    .dataframe tbody tr th:only-of-type {\n",
       "        vertical-align: middle;\n",
       "    }\n",
       "\n",
       "    .dataframe tbody tr th {\n",
       "        vertical-align: top;\n",
       "    }\n",
       "\n",
       "    .dataframe thead th {\n",
       "        text-align: right;\n",
       "    }\n",
       "</style>\n",
       "<table border=\"1\" class=\"dataframe\">\n",
       "  <thead>\n",
       "    <tr style=\"text-align: right;\">\n",
       "      <th>Geneid</th>\n",
       "      <th>AA0117_g585</th>\n",
       "      <th>AA0117_g1326</th>\n",
       "      <th>AA0117_g507</th>\n",
       "      <th>AA0117_g1239</th>\n",
       "      <th>AA0117_g1551</th>\n",
       "      <th>AA0117_g316</th>\n",
       "      <th>AA0117_g510</th>\n",
       "      <th>AA0117_g152</th>\n",
       "      <th>AA0117_g170</th>\n",
       "      <th>AA0117_g1759</th>\n",
       "      <th>...</th>\n",
       "      <th>AA0117_g13141</th>\n",
       "      <th>AA0117_g13177</th>\n",
       "      <th>AA0117_g13179</th>\n",
       "      <th>AA0117_g13259</th>\n",
       "      <th>AA0117_g13262</th>\n",
       "      <th>AA0117_g13312</th>\n",
       "      <th>AA0117_g13343</th>\n",
       "      <th>AA0117_g13357</th>\n",
       "      <th>AA0117_g13387</th>\n",
       "      <th>AA0117_g13533</th>\n",
       "    </tr>\n",
       "  </thead>\n",
       "  <tbody>\n",
       "    <tr>\n",
       "      <th>Alternaria_T14_1</th>\n",
       "      <td>0</td>\n",
       "      <td>43</td>\n",
       "      <td>19</td>\n",
       "      <td>0</td>\n",
       "      <td>18</td>\n",
       "      <td>2</td>\n",
       "      <td>10</td>\n",
       "      <td>4</td>\n",
       "      <td>5</td>\n",
       "      <td>22</td>\n",
       "      <td>...</td>\n",
       "      <td>0</td>\n",
       "      <td>16</td>\n",
       "      <td>5</td>\n",
       "      <td>0</td>\n",
       "      <td>0</td>\n",
       "      <td>6</td>\n",
       "      <td>10</td>\n",
       "      <td>4</td>\n",
       "      <td>0</td>\n",
       "      <td>6</td>\n",
       "    </tr>\n",
       "    <tr>\n",
       "      <th>Alternaria_T14_2</th>\n",
       "      <td>4</td>\n",
       "      <td>36</td>\n",
       "      <td>8</td>\n",
       "      <td>4</td>\n",
       "      <td>12</td>\n",
       "      <td>0</td>\n",
       "      <td>30</td>\n",
       "      <td>6</td>\n",
       "      <td>2</td>\n",
       "      <td>39</td>\n",
       "      <td>...</td>\n",
       "      <td>0</td>\n",
       "      <td>16</td>\n",
       "      <td>0</td>\n",
       "      <td>1</td>\n",
       "      <td>3</td>\n",
       "      <td>9</td>\n",
       "      <td>0</td>\n",
       "      <td>5</td>\n",
       "      <td>0</td>\n",
       "      <td>0</td>\n",
       "    </tr>\n",
       "    <tr>\n",
       "      <th>Alternaria_T14_3</th>\n",
       "      <td>16</td>\n",
       "      <td>123</td>\n",
       "      <td>44</td>\n",
       "      <td>16</td>\n",
       "      <td>8</td>\n",
       "      <td>18</td>\n",
       "      <td>77</td>\n",
       "      <td>2</td>\n",
       "      <td>6</td>\n",
       "      <td>62</td>\n",
       "      <td>...</td>\n",
       "      <td>16</td>\n",
       "      <td>33</td>\n",
       "      <td>9</td>\n",
       "      <td>30</td>\n",
       "      <td>11</td>\n",
       "      <td>31</td>\n",
       "      <td>13</td>\n",
       "      <td>7</td>\n",
       "      <td>18</td>\n",
       "      <td>7</td>\n",
       "    </tr>\n",
       "    <tr>\n",
       "      <th>Control_T14_1</th>\n",
       "      <td>0</td>\n",
       "      <td>0</td>\n",
       "      <td>2</td>\n",
       "      <td>0</td>\n",
       "      <td>0</td>\n",
       "      <td>0</td>\n",
       "      <td>0</td>\n",
       "      <td>0</td>\n",
       "      <td>0</td>\n",
       "      <td>0</td>\n",
       "      <td>...</td>\n",
       "      <td>0</td>\n",
       "      <td>0</td>\n",
       "      <td>0</td>\n",
       "      <td>0</td>\n",
       "      <td>0</td>\n",
       "      <td>0</td>\n",
       "      <td>0</td>\n",
       "      <td>0</td>\n",
       "      <td>0</td>\n",
       "      <td>0</td>\n",
       "    </tr>\n",
       "    <tr>\n",
       "      <th>Control_T14_2</th>\n",
       "      <td>0</td>\n",
       "      <td>0</td>\n",
       "      <td>0</td>\n",
       "      <td>0</td>\n",
       "      <td>0</td>\n",
       "      <td>0</td>\n",
       "      <td>0</td>\n",
       "      <td>0</td>\n",
       "      <td>0</td>\n",
       "      <td>0</td>\n",
       "      <td>...</td>\n",
       "      <td>0</td>\n",
       "      <td>0</td>\n",
       "      <td>0</td>\n",
       "      <td>0</td>\n",
       "      <td>0</td>\n",
       "      <td>0</td>\n",
       "      <td>0</td>\n",
       "      <td>0</td>\n",
       "      <td>0</td>\n",
       "      <td>0</td>\n",
       "    </tr>\n",
       "    <tr>\n",
       "      <th>Control_T14_3</th>\n",
       "      <td>0</td>\n",
       "      <td>0</td>\n",
       "      <td>0</td>\n",
       "      <td>0</td>\n",
       "      <td>0</td>\n",
       "      <td>0</td>\n",
       "      <td>0</td>\n",
       "      <td>0</td>\n",
       "      <td>0</td>\n",
       "      <td>0</td>\n",
       "      <td>...</td>\n",
       "      <td>0</td>\n",
       "      <td>0</td>\n",
       "      <td>0</td>\n",
       "      <td>0</td>\n",
       "      <td>0</td>\n",
       "      <td>0</td>\n",
       "      <td>0</td>\n",
       "      <td>0</td>\n",
       "      <td>0</td>\n",
       "      <td>0</td>\n",
       "    </tr>\n",
       "    <tr>\n",
       "      <th>Control_T14_4</th>\n",
       "      <td>0</td>\n",
       "      <td>0</td>\n",
       "      <td>0</td>\n",
       "      <td>0</td>\n",
       "      <td>0</td>\n",
       "      <td>0</td>\n",
       "      <td>0</td>\n",
       "      <td>0</td>\n",
       "      <td>0</td>\n",
       "      <td>0</td>\n",
       "      <td>...</td>\n",
       "      <td>0</td>\n",
       "      <td>0</td>\n",
       "      <td>0</td>\n",
       "      <td>0</td>\n",
       "      <td>0</td>\n",
       "      <td>0</td>\n",
       "      <td>0</td>\n",
       "      <td>0</td>\n",
       "      <td>0</td>\n",
       "      <td>0</td>\n",
       "    </tr>\n",
       "  </tbody>\n",
       "</table>\n",
       "<p>7 rows × 5837 columns</p>\n",
       "</div>"
      ],
      "text/plain": [
       "Geneid            AA0117_g585  AA0117_g1326  AA0117_g507  AA0117_g1239  \\\n",
       "Alternaria_T14_1            0            43           19             0   \n",
       "Alternaria_T14_2            4            36            8             4   \n",
       "Alternaria_T14_3           16           123           44            16   \n",
       "Control_T14_1               0             0            2             0   \n",
       "Control_T14_2               0             0            0             0   \n",
       "Control_T14_3               0             0            0             0   \n",
       "Control_T14_4               0             0            0             0   \n",
       "\n",
       "Geneid            AA0117_g1551  AA0117_g316  AA0117_g510  AA0117_g152  \\\n",
       "Alternaria_T14_1            18            2           10            4   \n",
       "Alternaria_T14_2            12            0           30            6   \n",
       "Alternaria_T14_3             8           18           77            2   \n",
       "Control_T14_1                0            0            0            0   \n",
       "Control_T14_2                0            0            0            0   \n",
       "Control_T14_3                0            0            0            0   \n",
       "Control_T14_4                0            0            0            0   \n",
       "\n",
       "Geneid            AA0117_g170  AA0117_g1759  ...  AA0117_g13141  \\\n",
       "Alternaria_T14_1            5            22  ...              0   \n",
       "Alternaria_T14_2            2            39  ...              0   \n",
       "Alternaria_T14_3            6            62  ...             16   \n",
       "Control_T14_1               0             0  ...              0   \n",
       "Control_T14_2               0             0  ...              0   \n",
       "Control_T14_3               0             0  ...              0   \n",
       "Control_T14_4               0             0  ...              0   \n",
       "\n",
       "Geneid            AA0117_g13177  AA0117_g13179  AA0117_g13259  AA0117_g13262  \\\n",
       "Alternaria_T14_1             16              5              0              0   \n",
       "Alternaria_T14_2             16              0              1              3   \n",
       "Alternaria_T14_3             33              9             30             11   \n",
       "Control_T14_1                 0              0              0              0   \n",
       "Control_T14_2                 0              0              0              0   \n",
       "Control_T14_3                 0              0              0              0   \n",
       "Control_T14_4                 0              0              0              0   \n",
       "\n",
       "Geneid            AA0117_g13312  AA0117_g13343  AA0117_g13357  AA0117_g13387  \\\n",
       "Alternaria_T14_1              6             10              4              0   \n",
       "Alternaria_T14_2              9              0              5              0   \n",
       "Alternaria_T14_3             31             13              7             18   \n",
       "Control_T14_1                 0              0              0              0   \n",
       "Control_T14_2                 0              0              0              0   \n",
       "Control_T14_3                 0              0              0              0   \n",
       "Control_T14_4                 0              0              0              0   \n",
       "\n",
       "Geneid            AA0117_g13533  \n",
       "Alternaria_T14_1              6  \n",
       "Alternaria_T14_2              0  \n",
       "Alternaria_T14_3              7  \n",
       "Control_T14_1                 0  \n",
       "Control_T14_2                 0  \n",
       "Control_T14_3                 0  \n",
       "Control_T14_4                 0  \n",
       "\n",
       "[7 rows x 5837 columns]"
      ]
     },
     "execution_count": 11,
     "metadata": {},
     "output_type": "execute_result"
    }
   ],
   "source": [
    "data = data.T\n",
    "data"
   ]
  },
  {
   "cell_type": "code",
   "execution_count": 12,
   "id": "f89b63bb",
   "metadata": {},
   "outputs": [],
   "source": [
    "# Create Metadata"
   ]
  },
  {
   "cell_type": "code",
   "execution_count": 13,
   "id": "35444167",
   "metadata": {},
   "outputs": [],
   "source": [
    "samples = data.index.tolist()"
   ]
  },
  {
   "cell_type": "code",
   "execution_count": 14,
   "id": "0d1ae908",
   "metadata": {},
   "outputs": [],
   "source": [
    "metadata = pd.DataFrame({\n",
    "    'Sample': samples,\n",
    "    'condition': ['Treatment'] * 3 + ['Control'] * 4,\n",
    "    'group': ['X', 'Y', 'X', 'Y', 'X', 'Y', 'Y']\n",
    "})\n",
    "\n",
    "metadata.set_index('Sample', inplace=True)"
   ]
  },
  {
   "cell_type": "code",
   "execution_count": 15,
   "id": "fac0921d",
   "metadata": {},
   "outputs": [
    {
     "data": {
      "text/html": [
       "<div>\n",
       "<style scoped>\n",
       "    .dataframe tbody tr th:only-of-type {\n",
       "        vertical-align: middle;\n",
       "    }\n",
       "\n",
       "    .dataframe tbody tr th {\n",
       "        vertical-align: top;\n",
       "    }\n",
       "\n",
       "    .dataframe thead th {\n",
       "        text-align: right;\n",
       "    }\n",
       "</style>\n",
       "<table border=\"1\" class=\"dataframe\">\n",
       "  <thead>\n",
       "    <tr style=\"text-align: right;\">\n",
       "      <th></th>\n",
       "      <th>condition</th>\n",
       "      <th>group</th>\n",
       "    </tr>\n",
       "    <tr>\n",
       "      <th>Sample</th>\n",
       "      <th></th>\n",
       "      <th></th>\n",
       "    </tr>\n",
       "  </thead>\n",
       "  <tbody>\n",
       "    <tr>\n",
       "      <th>Alternaria_T14_1</th>\n",
       "      <td>Treatment</td>\n",
       "      <td>X</td>\n",
       "    </tr>\n",
       "    <tr>\n",
       "      <th>Alternaria_T14_2</th>\n",
       "      <td>Treatment</td>\n",
       "      <td>Y</td>\n",
       "    </tr>\n",
       "    <tr>\n",
       "      <th>Alternaria_T14_3</th>\n",
       "      <td>Treatment</td>\n",
       "      <td>X</td>\n",
       "    </tr>\n",
       "    <tr>\n",
       "      <th>Control_T14_1</th>\n",
       "      <td>Control</td>\n",
       "      <td>Y</td>\n",
       "    </tr>\n",
       "    <tr>\n",
       "      <th>Control_T14_2</th>\n",
       "      <td>Control</td>\n",
       "      <td>X</td>\n",
       "    </tr>\n",
       "    <tr>\n",
       "      <th>Control_T14_3</th>\n",
       "      <td>Control</td>\n",
       "      <td>Y</td>\n",
       "    </tr>\n",
       "    <tr>\n",
       "      <th>Control_T14_4</th>\n",
       "      <td>Control</td>\n",
       "      <td>Y</td>\n",
       "    </tr>\n",
       "  </tbody>\n",
       "</table>\n",
       "</div>"
      ],
      "text/plain": [
       "                  condition group\n",
       "Sample                           \n",
       "Alternaria_T14_1  Treatment     X\n",
       "Alternaria_T14_2  Treatment     Y\n",
       "Alternaria_T14_3  Treatment     X\n",
       "Control_T14_1       Control     Y\n",
       "Control_T14_2       Control     X\n",
       "Control_T14_3       Control     Y\n",
       "Control_T14_4       Control     Y"
      ]
     },
     "execution_count": 15,
     "metadata": {},
     "output_type": "execute_result"
    }
   ],
   "source": [
    "metadata"
   ]
  },
  {
   "cell_type": "code",
   "execution_count": null,
   "id": "0fda8df6",
   "metadata": {},
   "outputs": [],
   "source": []
  },
  {
   "cell_type": "code",
   "execution_count": 16,
   "id": "d5ed4aaf",
   "metadata": {},
   "outputs": [],
   "source": [
    "# Single Factor Analysis"
   ]
  },
  {
   "cell_type": "code",
   "execution_count": 17,
   "id": "820afa5f",
   "metadata": {},
   "outputs": [],
   "source": [
    "# Initialize the DESeq2 dataset using the DeseqDataSet class\n",
    "inference = DefaultInference(n_cpus=8)\n",
    "dds = DeseqDataSet(\n",
    "    counts=data,\n",
    "    metadata=metadata,\n",
    "    design_factors=\"condition\",\n",
    "    refit_cooks=True,\n",
    "    inference=inference,\n",
    ")"
   ]
  },
  {
   "cell_type": "code",
   "execution_count": 18,
   "id": "1be84f29",
   "metadata": {},
   "outputs": [
    {
     "data": {
      "text/plain": [
       "AnnData object with n_obs × n_vars = 7 × 5837\n",
       "    obs: 'condition', 'group'\n",
       "    obsm: 'design_matrix'"
      ]
     },
     "execution_count": 18,
     "metadata": {},
     "output_type": "execute_result"
    }
   ],
   "source": [
    "dds"
   ]
  },
  {
   "cell_type": "code",
   "execution_count": 19,
   "id": "dd36488a",
   "metadata": {},
   "outputs": [
    {
     "data": {
      "text/html": [
       "<div>\n",
       "<style scoped>\n",
       "    .dataframe tbody tr th:only-of-type {\n",
       "        vertical-align: middle;\n",
       "    }\n",
       "\n",
       "    .dataframe tbody tr th {\n",
       "        vertical-align: top;\n",
       "    }\n",
       "\n",
       "    .dataframe thead th {\n",
       "        text-align: right;\n",
       "    }\n",
       "</style>\n",
       "<table border=\"1\" class=\"dataframe\">\n",
       "  <thead>\n",
       "    <tr style=\"text-align: right;\">\n",
       "      <th></th>\n",
       "      <th>condition</th>\n",
       "      <th>group</th>\n",
       "    </tr>\n",
       "    <tr>\n",
       "      <th>Sample</th>\n",
       "      <th></th>\n",
       "      <th></th>\n",
       "    </tr>\n",
       "  </thead>\n",
       "  <tbody>\n",
       "    <tr>\n",
       "      <th>Alternaria_T14_1</th>\n",
       "      <td>Treatment</td>\n",
       "      <td>X</td>\n",
       "    </tr>\n",
       "    <tr>\n",
       "      <th>Alternaria_T14_2</th>\n",
       "      <td>Treatment</td>\n",
       "      <td>Y</td>\n",
       "    </tr>\n",
       "    <tr>\n",
       "      <th>Alternaria_T14_3</th>\n",
       "      <td>Treatment</td>\n",
       "      <td>X</td>\n",
       "    </tr>\n",
       "    <tr>\n",
       "      <th>Control_T14_1</th>\n",
       "      <td>Control</td>\n",
       "      <td>Y</td>\n",
       "    </tr>\n",
       "    <tr>\n",
       "      <th>Control_T14_2</th>\n",
       "      <td>Control</td>\n",
       "      <td>X</td>\n",
       "    </tr>\n",
       "    <tr>\n",
       "      <th>Control_T14_3</th>\n",
       "      <td>Control</td>\n",
       "      <td>Y</td>\n",
       "    </tr>\n",
       "    <tr>\n",
       "      <th>Control_T14_4</th>\n",
       "      <td>Control</td>\n",
       "      <td>Y</td>\n",
       "    </tr>\n",
       "  </tbody>\n",
       "</table>\n",
       "</div>"
      ],
      "text/plain": [
       "                  condition group\n",
       "Sample                           \n",
       "Alternaria_T14_1  Treatment     X\n",
       "Alternaria_T14_2  Treatment     Y\n",
       "Alternaria_T14_3  Treatment     X\n",
       "Control_T14_1       Control     Y\n",
       "Control_T14_2       Control     X\n",
       "Control_T14_3       Control     Y\n",
       "Control_T14_4       Control     Y"
      ]
     },
     "execution_count": 19,
     "metadata": {},
     "output_type": "execute_result"
    }
   ],
   "source": [
    "dds.obs"
   ]
  },
  {
   "cell_type": "code",
   "execution_count": 20,
   "id": "b2d8d366",
   "metadata": {},
   "outputs": [
    {
     "data": {
      "text/html": [
       "<div>\n",
       "<style scoped>\n",
       "    .dataframe tbody tr th:only-of-type {\n",
       "        vertical-align: middle;\n",
       "    }\n",
       "\n",
       "    .dataframe tbody tr th {\n",
       "        vertical-align: top;\n",
       "    }\n",
       "\n",
       "    .dataframe thead th {\n",
       "        text-align: right;\n",
       "    }\n",
       "</style>\n",
       "<table border=\"1\" class=\"dataframe\">\n",
       "  <thead>\n",
       "    <tr style=\"text-align: right;\">\n",
       "      <th></th>\n",
       "    </tr>\n",
       "    <tr>\n",
       "      <th>Geneid</th>\n",
       "    </tr>\n",
       "  </thead>\n",
       "  <tbody>\n",
       "    <tr>\n",
       "      <th>AA0117_g585</th>\n",
       "    </tr>\n",
       "    <tr>\n",
       "      <th>AA0117_g1326</th>\n",
       "    </tr>\n",
       "    <tr>\n",
       "      <th>AA0117_g507</th>\n",
       "    </tr>\n",
       "    <tr>\n",
       "      <th>AA0117_g1239</th>\n",
       "    </tr>\n",
       "    <tr>\n",
       "      <th>AA0117_g1551</th>\n",
       "    </tr>\n",
       "    <tr>\n",
       "      <th>...</th>\n",
       "    </tr>\n",
       "    <tr>\n",
       "      <th>AA0117_g13312</th>\n",
       "    </tr>\n",
       "    <tr>\n",
       "      <th>AA0117_g13343</th>\n",
       "    </tr>\n",
       "    <tr>\n",
       "      <th>AA0117_g13357</th>\n",
       "    </tr>\n",
       "    <tr>\n",
       "      <th>AA0117_g13387</th>\n",
       "    </tr>\n",
       "    <tr>\n",
       "      <th>AA0117_g13533</th>\n",
       "    </tr>\n",
       "  </tbody>\n",
       "</table>\n",
       "<p>5837 rows × 0 columns</p>\n",
       "</div>"
      ],
      "text/plain": [
       "Empty DataFrame\n",
       "Columns: []\n",
       "Index: [AA0117_g585, AA0117_g1326, AA0117_g507, AA0117_g1239, AA0117_g1551, AA0117_g316, AA0117_g510, AA0117_g152, AA0117_g170, AA0117_g1759, AA0117_g1754, AA0117_g954, AA0117_g1218, AA0117_g1383, AA0117_g812, AA0117_g1035, AA0117_g529, AA0117_g1763, AA0117_g50, AA0117_g232, AA0117_g949, AA0117_g1146, AA0117_g1391, AA0117_g1726, AA0117_g1115, AA0117_g15, AA0117_g108, AA0117_g156, AA0117_g1044, AA0117_g937, AA0117_g1313, AA0117_g167, AA0117_g277, AA0117_g594, AA0117_g912, AA0117_g891, AA0117_g1128, AA0117_g1593, AA0117_g322, AA0117_g1058, AA0117_g317, AA0117_g640, AA0117_g1406, AA0117_g199, AA0117_g747, AA0117_g964, AA0117_g252, AA0117_g39, AA0117_g562, AA0117_g764, AA0117_g828, AA0117_g1744, AA0117_g857, AA0117_g768, AA0117_g892, AA0117_g26, AA0117_g865, AA0117_g807, AA0117_g1361, AA0117_g923, AA0117_g1487, AA0117_g947, AA0117_g941, AA0117_g567, AA0117_g531, AA0117_g1086, AA0117_g1222, AA0117_g1024, AA0117_g729, AA0117_g1396, AA0117_g373, AA0117_g1032, AA0117_g563, AA0117_g1462, AA0117_g1498, AA0117_g472, AA0117_g145, AA0117_g869, AA0117_g1767, AA0117_g1193, AA0117_g813, AA0117_g342, AA0117_g36, AA0117_g1513, AA0117_g291, AA0117_g333, AA0117_g150, AA0117_g310, AA0117_g943, AA0117_g415, AA0117_g38, AA0117_g1153, AA0117_g381, AA0117_g1119, AA0117_g733, AA0117_g1074, AA0117_g688, AA0117_g1673, AA0117_g33, AA0117_g1453, ...]\n",
       "\n",
       "[5837 rows x 0 columns]"
      ]
     },
     "execution_count": 20,
     "metadata": {},
     "output_type": "execute_result"
    }
   ],
   "source": [
    "dds.var"
   ]
  },
  {
   "cell_type": "code",
   "execution_count": 21,
   "id": "34a11216",
   "metadata": {},
   "outputs": [
    {
     "data": {
      "text/plain": [
       "array([[  0,  43,  19, ...,   4,   0,   6],\n",
       "       [  4,  36,   8, ...,   5,   0,   0],\n",
       "       [ 16, 123,  44, ...,   7,  18,   7],\n",
       "       ...,\n",
       "       [  0,   0,   0, ...,   0,   0,   0],\n",
       "       [  0,   0,   0, ...,   0,   0,   0],\n",
       "       [  0,   0,   0, ...,   0,   0,   0]])"
      ]
     },
     "execution_count": 21,
     "metadata": {},
     "output_type": "execute_result"
    }
   ],
   "source": [
    "dds.X"
   ]
  },
  {
   "cell_type": "code",
   "execution_count": 22,
   "id": "b36f22b9",
   "metadata": {},
   "outputs": [
    {
     "data": {
      "text/plain": [
       "(7, 5837)"
      ]
     },
     "execution_count": 22,
     "metadata": {},
     "output_type": "execute_result"
    }
   ],
   "source": [
    "dds.X.shape"
   ]
  },
  {
   "cell_type": "code",
   "execution_count": 23,
   "id": "7c777433",
   "metadata": {},
   "outputs": [
    {
     "name": "stderr",
     "output_type": "stream",
     "text": [
      "Fitting size factors...\n",
      "... done in 0.07 seconds.\n",
      "\n",
      "Fitting dispersions...\n",
      "... done in 12.57 seconds.\n",
      "\n",
      "Fitting dispersion trend curve...\n",
      "... done in 0.85 seconds.\n",
      "\n",
      "Fitting MAP dispersions...\n",
      "... done in 11.45 seconds.\n",
      "\n",
      "Fitting LFCs...\n",
      "... done in 7.98 seconds.\n",
      "\n",
      "Refitting 0 outliers.\n",
      "\n"
     ]
    }
   ],
   "source": [
    "# run deseq2 analysis\n",
    "dds.deseq2()"
   ]
  },
  {
   "cell_type": "code",
   "execution_count": 24,
   "id": "dfe7a854",
   "metadata": {},
   "outputs": [
    {
     "data": {
      "text/plain": [
       "AnnData object with n_obs × n_vars = 7 × 5837\n",
       "    obs: 'condition', 'group'\n",
       "    uns: 'trend_coeffs', '_squared_logres', 'prior_disp_var'\n",
       "    obsm: 'design_matrix', 'size_factors', 'replaceable'\n",
       "    varm: 'non_zero', '_MoM_dispersions', 'genewise_dispersions', '_genewise_converged', '_normed_means', 'fitted_dispersions', 'MAP_dispersions', '_MAP_converged', 'dispersions', '_outlier_genes', 'LFC', '_LFC_converged', 'replaced'\n",
       "    layers: 'normed_counts', '_mu_hat', '_mu_LFC', '_hat_diagonals', 'cooks'"
      ]
     },
     "execution_count": 24,
     "metadata": {},
     "output_type": "execute_result"
    }
   ],
   "source": [
    "dds"
   ]
  },
  {
   "cell_type": "code",
   "execution_count": 25,
   "id": "082595e0",
   "metadata": {},
   "outputs": [
    {
     "data": {
      "text/plain": [
       "array([ 6.59655689,  0.71713965,  1.23085961, ...,  3.55263686,\n",
       "       10.        ,  8.22516771])"
      ]
     },
     "execution_count": 25,
     "metadata": {},
     "output_type": "execute_result"
    }
   ],
   "source": [
    "# Dispersions and LFCs (in natural log scale)\n",
    "dds.varm[\"dispersions\"]"
   ]
  },
  {
   "cell_type": "code",
   "execution_count": 26,
   "id": "15fcd26c",
   "metadata": {
    "scrolled": false
   },
   "outputs": [
    {
     "data": {
      "text/html": [
       "<div>\n",
       "<style scoped>\n",
       "    .dataframe tbody tr th:only-of-type {\n",
       "        vertical-align: middle;\n",
       "    }\n",
       "\n",
       "    .dataframe tbody tr th {\n",
       "        vertical-align: top;\n",
       "    }\n",
       "\n",
       "    .dataframe thead th {\n",
       "        text-align: right;\n",
       "    }\n",
       "</style>\n",
       "<table border=\"1\" class=\"dataframe\">\n",
       "  <thead>\n",
       "    <tr style=\"text-align: right;\">\n",
       "      <th></th>\n",
       "      <th>intercept</th>\n",
       "      <th>condition_Treatment_vs_Control</th>\n",
       "    </tr>\n",
       "    <tr>\n",
       "      <th>Geneid</th>\n",
       "      <th></th>\n",
       "      <th></th>\n",
       "    </tr>\n",
       "  </thead>\n",
       "  <tbody>\n",
       "    <tr>\n",
       "      <th>AA0117_g585</th>\n",
       "      <td>-1.392019</td>\n",
       "      <td>2.790984</td>\n",
       "    </tr>\n",
       "    <tr>\n",
       "      <th>AA0117_g1326</th>\n",
       "      <td>-1.392024</td>\n",
       "      <td>5.104651</td>\n",
       "    </tr>\n",
       "    <tr>\n",
       "      <th>AA0117_g507</th>\n",
       "      <td>-0.406309</td>\n",
       "      <td>3.076523</td>\n",
       "    </tr>\n",
       "    <tr>\n",
       "      <th>AA0117_g1239</th>\n",
       "      <td>-1.392019</td>\n",
       "      <td>2.790984</td>\n",
       "    </tr>\n",
       "    <tr>\n",
       "      <th>AA0117_g1551</th>\n",
       "      <td>-1.392024</td>\n",
       "      <td>3.426919</td>\n",
       "    </tr>\n",
       "    <tr>\n",
       "      <th>...</th>\n",
       "      <td>...</td>\n",
       "      <td>...</td>\n",
       "    </tr>\n",
       "    <tr>\n",
       "      <th>AA0117_g13312</th>\n",
       "      <td>-1.392024</td>\n",
       "      <td>3.624038</td>\n",
       "    </tr>\n",
       "    <tr>\n",
       "      <th>AA0117_g13343</th>\n",
       "      <td>-1.392020</td>\n",
       "      <td>2.940861</td>\n",
       "    </tr>\n",
       "    <tr>\n",
       "      <th>AA0117_g13357</th>\n",
       "      <td>-1.392023</td>\n",
       "      <td>2.562071</td>\n",
       "    </tr>\n",
       "    <tr>\n",
       "      <th>AA0117_g13387</th>\n",
       "      <td>-1.392016</td>\n",
       "      <td>2.695826</td>\n",
       "    </tr>\n",
       "    <tr>\n",
       "      <th>AA0117_g13533</th>\n",
       "      <td>-1.392019</td>\n",
       "      <td>2.370221</td>\n",
       "    </tr>\n",
       "  </tbody>\n",
       "</table>\n",
       "<p>5837 rows × 2 columns</p>\n",
       "</div>"
      ],
      "text/plain": [
       "               intercept  condition_Treatment_vs_Control\n",
       "Geneid                                                  \n",
       "AA0117_g585    -1.392019                        2.790984\n",
       "AA0117_g1326   -1.392024                        5.104651\n",
       "AA0117_g507    -0.406309                        3.076523\n",
       "AA0117_g1239   -1.392019                        2.790984\n",
       "AA0117_g1551   -1.392024                        3.426919\n",
       "...                  ...                             ...\n",
       "AA0117_g13312  -1.392024                        3.624038\n",
       "AA0117_g13343  -1.392020                        2.940861\n",
       "AA0117_g13357  -1.392023                        2.562071\n",
       "AA0117_g13387  -1.392016                        2.695826\n",
       "AA0117_g13533  -1.392019                        2.370221\n",
       "\n",
       "[5837 rows x 2 columns]"
      ]
     },
     "execution_count": 26,
     "metadata": {},
     "output_type": "execute_result"
    }
   ],
   "source": [
    "dds.varm[\"LFC\"]"
   ]
  },
  {
   "cell_type": "code",
   "execution_count": null,
   "id": "1f309bb7",
   "metadata": {},
   "outputs": [],
   "source": []
  },
  {
   "cell_type": "code",
   "execution_count": 27,
   "id": "8a38d75b",
   "metadata": {},
   "outputs": [],
   "source": [
    "# Principal Component Analysis (PCA)"
   ]
  },
  {
   "cell_type": "code",
   "execution_count": 28,
   "id": "9b3a9d77",
   "metadata": {},
   "outputs": [],
   "source": [
    "# Log-transform the counts\n",
    "log_transformed = np.log2(data + 1)"
   ]
  },
  {
   "cell_type": "code",
   "execution_count": 29,
   "id": "62310469",
   "metadata": {},
   "outputs": [],
   "source": [
    "pca = PCA(n_components=2)\n",
    "pca_result = pca.fit_transform(log_transformed)"
   ]
  },
  {
   "cell_type": "code",
   "execution_count": 30,
   "id": "6bd00600",
   "metadata": {},
   "outputs": [],
   "source": [
    "# Create a DataFrame with PCA results and metadata\n",
    "pca_df = pd.DataFrame(pca_result, columns=['PC1', 'PC2'])\n",
    "pca_df['condition'] = metadata['condition'].values"
   ]
  },
  {
   "cell_type": "code",
   "execution_count": 31,
   "id": "b1266009",
   "metadata": {},
   "outputs": [],
   "source": [
    "# Calculate explained variance for the plot\n",
    "explained_variance = pca.explained_variance_ratio_"
   ]
  },
  {
   "cell_type": "code",
   "execution_count": 32,
   "id": "777f52ca",
   "metadata": {},
   "outputs": [
    {
     "data": {
      "image/png": "[encoded data removed]",
      "text/plain": [
       "<Figure size 800x600 with 1 Axes>"
      ]
     },
     "metadata": {},
     "output_type": "display_data"
    }
   ],
   "source": [
    "# Set a clean and professional style\n",
    "plt.style.use('seaborn-ticks')\n",
    "\n",
    "# Create PCA plot\n",
    "plt.figure(figsize=(8, 6))\n",
    "ax = sns.scatterplot(\n",
    "    x='PC1', y='PC2', hue='condition', data=pca_df, \n",
    "    s=70, edgecolor='black', alpha=0.8, palette='Set1'\n",
    ")\n",
    "\n",
    "# Label axes with explained variance\n",
    "plt.xlabel(f'PC1 ({explained_variance[0] * 100:.2f}% variance)', fontsize=12)\n",
    "plt.ylabel(f'PC2 ({explained_variance[1] * 100:.2f}% variance)', fontsize=12)\n",
    "\n",
    "# Title and legend improvements\n",
    "plt.title('Principal Component Analysis (PCA)', fontsize=14, weight='bold', pad=25)\n",
    "plt.legend(title='', bbox_to_anchor=(1.1, 1), loc='upper left', fontsize=10)\n",
    "\n",
    "# Improve visual clarity\n",
    "plt.grid(True, linestyle='--', alpha=0.5)\n",
    "sns.despine()  # Removes unnecessary borders\n",
    "\n",
    "# Save figure in high resolution\n",
    "plt.savefig('PCA_alternaria_14dpi.png', dpi=600, bbox_inches='tight')\n",
    "plt.show()"
   ]
  },
  {
   "cell_type": "code",
   "execution_count": null,
   "id": "2e4f126d",
   "metadata": {},
   "outputs": [],
   "source": []
  },
  {
   "cell_type": "code",
   "execution_count": null,
   "id": "99f68de9",
   "metadata": {},
   "outputs": [],
   "source": []
  },
  {
   "cell_type": "code",
   "execution_count": 33,
   "id": "a1d254ad",
   "metadata": {},
   "outputs": [],
   "source": [
    "# Statistical Analysis with the DeseqStats class"
   ]
  },
  {
   "cell_type": "code",
   "execution_count": 34,
   "id": "a1290ef8",
   "metadata": {},
   "outputs": [],
   "source": [
    "stat_res = DeseqStats(dds, inference=inference)"
   ]
  },
  {
   "cell_type": "code",
   "execution_count": 35,
   "id": "57289b2e",
   "metadata": {},
   "outputs": [
    {
     "name": "stderr",
     "output_type": "stream",
     "text": [
      "Running Wald tests...\n",
      "... done in 2.53 seconds.\n",
      "\n"
     ]
    },
    {
     "name": "stdout",
     "output_type": "stream",
     "text": [
      "Log2 fold change & Wald test p-value: condition Treatment vs Control\n",
      "                baseMean  log2FoldChange     lfcSE      stat    pvalue  \\\n",
      "Geneid                                                                   \n",
      "AA0117_g585     1.736439        4.026539  3.310059  1.216455  0.223811   \n",
      "AA0117_g1326   17.557861        7.364455  1.897538  3.881057  0.000104   \n",
      "AA0117_g507     6.511964        4.438484  1.602044  2.770514  0.005597   \n",
      "AA0117_g1239    1.736439        4.026539  3.310059  1.216455  0.223811   \n",
      "AA0117_g1551    3.279410        4.943999  2.226797  2.220229  0.026403   \n",
      "...                  ...             ...       ...       ...       ...   \n",
      "AA0117_g13312   3.994711        5.228381  2.258724  2.314750  0.020627   \n",
      "AA0117_g13343   2.017631        4.242765  3.161773  1.341894  0.179630   \n",
      "AA0117_g13357   1.381041        3.696288  2.691398  1.373371  0.169637   \n",
      "AA0117_g13387   1.579016        3.889254  3.889390  0.999965  0.317327   \n",
      "AA0117_g13533   1.140400        3.419506  3.606000  0.948282  0.342986   \n",
      "\n",
      "                   padj  \n",
      "Geneid                   \n",
      "AA0117_g585         NaN  \n",
      "AA0117_g1326   0.000886  \n",
      "AA0117_g507    0.013065  \n",
      "AA0117_g1239        NaN  \n",
      "AA0117_g1551   0.035906  \n",
      "...                 ...  \n",
      "AA0117_g13312  0.030423  \n",
      "AA0117_g13343       NaN  \n",
      "AA0117_g13357       NaN  \n",
      "AA0117_g13387       NaN  \n",
      "AA0117_g13533       NaN  \n",
      "\n",
      "[5837 rows x 6 columns]\n"
     ]
    }
   ],
   "source": [
    "# Wald Test\n",
    "stat_res.summary()"
   ]
  },
  {
   "cell_type": "code",
   "execution_count": 36,
   "id": "3cfc9bc5",
   "metadata": {
    "scrolled": true
   },
   "outputs": [
    {
     "data": {
      "text/html": [
       "<div>\n",
       "<style scoped>\n",
       "    .dataframe tbody tr th:only-of-type {\n",
       "        vertical-align: middle;\n",
       "    }\n",
       "\n",
       "    .dataframe tbody tr th {\n",
       "        vertical-align: top;\n",
       "    }\n",
       "\n",
       "    .dataframe thead th {\n",
       "        text-align: right;\n",
       "    }\n",
       "</style>\n",
       "<table border=\"1\" class=\"dataframe\">\n",
       "  <thead>\n",
       "    <tr style=\"text-align: right;\">\n",
       "      <th></th>\n",
       "      <th>baseMean</th>\n",
       "      <th>log2FoldChange</th>\n",
       "      <th>lfcSE</th>\n",
       "      <th>stat</th>\n",
       "      <th>pvalue</th>\n",
       "      <th>padj</th>\n",
       "    </tr>\n",
       "    <tr>\n",
       "      <th>Geneid</th>\n",
       "      <th></th>\n",
       "      <th></th>\n",
       "      <th></th>\n",
       "      <th></th>\n",
       "      <th></th>\n",
       "      <th></th>\n",
       "    </tr>\n",
       "  </thead>\n",
       "  <tbody>\n",
       "    <tr>\n",
       "      <th>AA0117_g585</th>\n",
       "      <td>1.736439</td>\n",
       "      <td>4.026539</td>\n",
       "      <td>3.310059</td>\n",
       "      <td>1.216455</td>\n",
       "      <td>0.223811</td>\n",
       "      <td>NaN</td>\n",
       "    </tr>\n",
       "    <tr>\n",
       "      <th>AA0117_g1326</th>\n",
       "      <td>17.557861</td>\n",
       "      <td>7.364455</td>\n",
       "      <td>1.897538</td>\n",
       "      <td>3.881057</td>\n",
       "      <td>0.000104</td>\n",
       "      <td>0.000886</td>\n",
       "    </tr>\n",
       "    <tr>\n",
       "      <th>AA0117_g507</th>\n",
       "      <td>6.511964</td>\n",
       "      <td>4.438484</td>\n",
       "      <td>1.602044</td>\n",
       "      <td>2.770514</td>\n",
       "      <td>0.005597</td>\n",
       "      <td>0.013065</td>\n",
       "    </tr>\n",
       "    <tr>\n",
       "      <th>AA0117_g1239</th>\n",
       "      <td>1.736439</td>\n",
       "      <td>4.026539</td>\n",
       "      <td>3.310059</td>\n",
       "      <td>1.216455</td>\n",
       "      <td>0.223811</td>\n",
       "      <td>NaN</td>\n",
       "    </tr>\n",
       "    <tr>\n",
       "      <th>AA0117_g1551</th>\n",
       "      <td>3.279410</td>\n",
       "      <td>4.943999</td>\n",
       "      <td>2.226797</td>\n",
       "      <td>2.220229</td>\n",
       "      <td>0.026403</td>\n",
       "      <td>0.035906</td>\n",
       "    </tr>\n",
       "  </tbody>\n",
       "</table>\n",
       "</div>"
      ],
      "text/plain": [
       "               baseMean  log2FoldChange     lfcSE      stat    pvalue  \\\n",
       "Geneid                                                                  \n",
       "AA0117_g585    1.736439        4.026539  3.310059  1.216455  0.223811   \n",
       "AA0117_g1326  17.557861        7.364455  1.897538  3.881057  0.000104   \n",
       "AA0117_g507    6.511964        4.438484  1.602044  2.770514  0.005597   \n",
       "AA0117_g1239   1.736439        4.026539  3.310059  1.216455  0.223811   \n",
       "AA0117_g1551   3.279410        4.943999  2.226797  2.220229  0.026403   \n",
       "\n",
       "                  padj  \n",
       "Geneid                  \n",
       "AA0117_g585        NaN  \n",
       "AA0117_g1326  0.000886  \n",
       "AA0117_g507   0.013065  \n",
       "AA0117_g1239       NaN  \n",
       "AA0117_g1551  0.035906  "
      ]
     },
     "execution_count": 36,
     "metadata": {},
     "output_type": "execute_result"
    }
   ],
   "source": [
    "# Expressed genes\n",
    "res = stat_res.results_df\n",
    "res.head(5)"
   ]
  },
  {
   "cell_type": "code",
   "execution_count": null,
   "id": "9ed83ca8",
   "metadata": {},
   "outputs": [],
   "source": []
  },
  {
   "cell_type": "code",
   "execution_count": 37,
   "id": "4708c9c7",
   "metadata": {},
   "outputs": [
    {
     "data": {
      "text/html": [
       "<div>\n",
       "<style scoped>\n",
       "    .dataframe tbody tr th:only-of-type {\n",
       "        vertical-align: middle;\n",
       "    }\n",
       "\n",
       "    .dataframe tbody tr th {\n",
       "        vertical-align: top;\n",
       "    }\n",
       "\n",
       "    .dataframe thead th {\n",
       "        text-align: right;\n",
       "    }\n",
       "</style>\n",
       "<table border=\"1\" class=\"dataframe\">\n",
       "  <thead>\n",
       "    <tr style=\"text-align: right;\">\n",
       "      <th></th>\n",
       "      <th>baseMean</th>\n",
       "      <th>log2FoldChange</th>\n",
       "      <th>lfcSE</th>\n",
       "      <th>stat</th>\n",
       "      <th>pvalue</th>\n",
       "      <th>padj</th>\n",
       "    </tr>\n",
       "    <tr>\n",
       "      <th>Geneid</th>\n",
       "      <th></th>\n",
       "      <th></th>\n",
       "      <th></th>\n",
       "      <th></th>\n",
       "      <th></th>\n",
       "      <th></th>\n",
       "    </tr>\n",
       "  </thead>\n",
       "  <tbody>\n",
       "    <tr>\n",
       "      <th>AA0117_g1326</th>\n",
       "      <td>17.557861</td>\n",
       "      <td>7.364455</td>\n",
       "      <td>1.897538</td>\n",
       "      <td>3.881057</td>\n",
       "      <td>0.000104</td>\n",
       "      <td>0.000886</td>\n",
       "    </tr>\n",
       "    <tr>\n",
       "      <th>AA0117_g510</th>\n",
       "      <td>10.128432</td>\n",
       "      <td>6.570855</td>\n",
       "      <td>2.045535</td>\n",
       "      <td>3.212292</td>\n",
       "      <td>0.001317</td>\n",
       "      <td>0.005108</td>\n",
       "    </tr>\n",
       "    <tr>\n",
       "      <th>AA0117_g1759</th>\n",
       "      <td>10.614220</td>\n",
       "      <td>6.638520</td>\n",
       "      <td>1.918973</td>\n",
       "      <td>3.459412</td>\n",
       "      <td>0.000541</td>\n",
       "      <td>0.002890</td>\n",
       "    </tr>\n",
       "    <tr>\n",
       "      <th>AA0117_g954</th>\n",
       "      <td>33.284664</td>\n",
       "      <td>8.287302</td>\n",
       "      <td>1.806274</td>\n",
       "      <td>4.588065</td>\n",
       "      <td>0.000004</td>\n",
       "      <td>0.000107</td>\n",
       "    </tr>\n",
       "    <tr>\n",
       "      <th>AA0117_g1218</th>\n",
       "      <td>11.968501</td>\n",
       "      <td>6.811507</td>\n",
       "      <td>2.080628</td>\n",
       "      <td>3.273775</td>\n",
       "      <td>0.001061</td>\n",
       "      <td>0.004476</td>\n",
       "    </tr>\n",
       "    <tr>\n",
       "      <th>...</th>\n",
       "      <td>...</td>\n",
       "      <td>...</td>\n",
       "      <td>...</td>\n",
       "      <td>...</td>\n",
       "      <td>...</td>\n",
       "      <td>...</td>\n",
       "    </tr>\n",
       "    <tr>\n",
       "      <th>AA0117_g12602</th>\n",
       "      <td>7.595864</td>\n",
       "      <td>6.155378</td>\n",
       "      <td>2.068754</td>\n",
       "      <td>2.975403</td>\n",
       "      <td>0.002926</td>\n",
       "      <td>0.008543</td>\n",
       "    </tr>\n",
       "    <tr>\n",
       "      <th>AA0117_g12613</th>\n",
       "      <td>19.017888</td>\n",
       "      <td>7.479745</td>\n",
       "      <td>2.189190</td>\n",
       "      <td>3.416672</td>\n",
       "      <td>0.000634</td>\n",
       "      <td>0.003130</td>\n",
       "    </tr>\n",
       "    <tr>\n",
       "      <th>AA0117_g12741</th>\n",
       "      <td>9.590966</td>\n",
       "      <td>6.491989</td>\n",
       "      <td>2.077977</td>\n",
       "      <td>3.124187</td>\n",
       "      <td>0.001783</td>\n",
       "      <td>0.006156</td>\n",
       "    </tr>\n",
       "    <tr>\n",
       "      <th>AA0117_g12754</th>\n",
       "      <td>14.139050</td>\n",
       "      <td>7.051906</td>\n",
       "      <td>1.954599</td>\n",
       "      <td>3.607854</td>\n",
       "      <td>0.000309</td>\n",
       "      <td>0.001936</td>\n",
       "    </tr>\n",
       "    <tr>\n",
       "      <th>AA0117_g13021</th>\n",
       "      <td>9.498738</td>\n",
       "      <td>6.477986</td>\n",
       "      <td>2.003337</td>\n",
       "      <td>3.233598</td>\n",
       "      <td>0.001222</td>\n",
       "      <td>0.004898</td>\n",
       "    </tr>\n",
       "  </tbody>\n",
       "</table>\n",
       "<p>1155 rows × 6 columns</p>\n",
       "</div>"
      ],
      "text/plain": [
       "                baseMean  log2FoldChange     lfcSE      stat    pvalue  \\\n",
       "Geneid                                                                   \n",
       "AA0117_g1326   17.557861        7.364455  1.897538  3.881057  0.000104   \n",
       "AA0117_g510    10.128432        6.570855  2.045535  3.212292  0.001317   \n",
       "AA0117_g1759   10.614220        6.638520  1.918973  3.459412  0.000541   \n",
       "AA0117_g954    33.284664        8.287302  1.806274  4.588065  0.000004   \n",
       "AA0117_g1218   11.968501        6.811507  2.080628  3.273775  0.001061   \n",
       "...                  ...             ...       ...       ...       ...   \n",
       "AA0117_g12602   7.595864        6.155378  2.068754  2.975403  0.002926   \n",
       "AA0117_g12613  19.017888        7.479745  2.189190  3.416672  0.000634   \n",
       "AA0117_g12741   9.590966        6.491989  2.077977  3.124187  0.001783   \n",
       "AA0117_g12754  14.139050        7.051906  1.954599  3.607854  0.000309   \n",
       "AA0117_g13021   9.498738        6.477986  2.003337  3.233598  0.001222   \n",
       "\n",
       "                   padj  \n",
       "Geneid                   \n",
       "AA0117_g1326   0.000886  \n",
       "AA0117_g510    0.005108  \n",
       "AA0117_g1759   0.002890  \n",
       "AA0117_g954    0.000107  \n",
       "AA0117_g1218   0.004476  \n",
       "...                 ...  \n",
       "AA0117_g12602  0.008543  \n",
       "AA0117_g12613  0.003130  \n",
       "AA0117_g12741  0.006156  \n",
       "AA0117_g12754  0.001936  \n",
       "AA0117_g13021  0.004898  \n",
       "\n",
       "[1155 rows x 6 columns]"
      ]
     },
     "execution_count": 37,
     "metadata": {},
     "output_type": "execute_result"
    }
   ],
   "source": [
    "# Filter 'res' to identify significantly expressed genes\n",
    "sigs = res[(res.padj < 0.01) & (abs(res.log2FoldChange) > 1.5)]\n",
    "sigs"
   ]
  },
  {
   "cell_type": "code",
   "execution_count": null,
   "id": "79dceaee",
   "metadata": {},
   "outputs": [],
   "source": []
  },
  {
   "cell_type": "code",
   "execution_count": 38,
   "id": "2ddbf7e1",
   "metadata": {},
   "outputs": [
    {
     "data": {
      "text/plain": [
       "AnnData object with n_obs × n_vars = 7 × 5837\n",
       "    obs: 'condition', 'group'\n",
       "    uns: 'trend_coeffs', '_squared_logres', 'prior_disp_var'\n",
       "    obsm: 'design_matrix', 'size_factors', 'replaceable'\n",
       "    varm: 'non_zero', '_MoM_dispersions', 'genewise_dispersions', '_genewise_converged', '_normed_means', 'fitted_dispersions', 'MAP_dispersions', '_MAP_converged', 'dispersions', '_outlier_genes', 'LFC', '_LFC_converged', 'replaced'\n",
       "    layers: 'normed_counts', '_mu_hat', '_mu_LFC', '_hat_diagonals', 'cooks'"
      ]
     },
     "execution_count": 38,
     "metadata": {},
     "output_type": "execute_result"
    }
   ],
   "source": [
    "dds"
   ]
  },
  {
   "cell_type": "code",
   "execution_count": 39,
   "id": "eed87da3",
   "metadata": {},
   "outputs": [
    {
     "data": {
      "text/plain": [
       "array([[0.        , 3.31071271, 2.53901368, ..., 1.24018318, 0.        ,\n",
       "        1.54423138],\n",
       "       [1.20299882, 3.08971406, 1.73345509, ..., 1.36420477, 0.        ,\n",
       "        0.        ],\n",
       "       [2.38185698, 4.33767733, 3.33287256, ..., 1.66741081, 2.48932266,\n",
       "        1.66741081],\n",
       "       ...,\n",
       "       [0.        , 0.        , 0.        , ..., 0.        , 0.        ,\n",
       "        0.        ],\n",
       "       [0.        , 0.        , 0.        , ..., 0.        , 0.        ,\n",
       "        0.        ],\n",
       "       [0.        , 0.        , 0.        , ..., 0.        , 0.        ,\n",
       "        0.        ]])"
      ]
     },
     "execution_count": 39,
     "metadata": {},
     "output_type": "execute_result"
    }
   ],
   "source": [
    "#calculate the natural logarithm of the normalized expression values\n",
    "dds.layers['normed_counts']\n",
    "dds.layers['log1p'] = np.log1p(dds.layers['normed_counts'])\n",
    "dds.layers['log1p']"
   ]
  },
  {
   "cell_type": "code",
   "execution_count": 40,
   "id": "b5c974ff",
   "metadata": {
    "scrolled": true
   },
   "outputs": [
    {
     "data": {
      "text/plain": [
       "View of AnnData object with n_obs × n_vars = 7 × 1155\n",
       "    obs: 'condition', 'group'\n",
       "    uns: 'trend_coeffs', '_squared_logres', 'prior_disp_var'\n",
       "    obsm: 'design_matrix', 'size_factors', 'replaceable'\n",
       "    varm: 'non_zero', '_MoM_dispersions', 'genewise_dispersions', '_genewise_converged', '_normed_means', 'fitted_dispersions', 'MAP_dispersions', '_MAP_converged', 'dispersions', '_outlier_genes', 'LFC', '_LFC_converged', 'replaced'\n",
       "    layers: 'normed_counts', '_mu_hat', '_mu_LFC', '_hat_diagonals', 'cooks', 'log1p'"
      ]
     },
     "execution_count": 40,
     "metadata": {},
     "output_type": "execute_result"
    }
   ],
   "source": [
    "dds_sigs = dds[:, sigs.index]\n",
    "dds_sigs"
   ]
  },
  {
   "cell_type": "code",
   "execution_count": null,
   "id": "01673061",
   "metadata": {},
   "outputs": [],
   "source": []
  },
  {
   "cell_type": "code",
   "execution_count": 41,
   "id": "ace02acd",
   "metadata": {},
   "outputs": [],
   "source": [
    "# Heatmap"
   ]
  },
  {
   "cell_type": "code",
   "execution_count": 42,
   "id": "4f5d5a64",
   "metadata": {},
   "outputs": [
    {
     "data": {
      "image/png": "[encoded data removed]",
      "text/plain": [
       "<Figure size 1000x800 with 4 Axes>"
      ]
     },
     "metadata": {},
     "output_type": "display_data"
    }
   ],
   "source": [
    "# Create a DataFrame from the log-transformed expression matrix\n",
    "grapher = pd.DataFrame(dds_sigs.layers['log1p'].T,\n",
    "                       index=dds_sigs.var_names, columns=dds_sigs.obs_names)\n",
    "\n",
    "# Select the top 20 most variable genes based on standard deviation\n",
    "top_genes = grapher.var(axis=1).nlargest(20).index\n",
    "grapher_top = grapher.loc[top_genes]\n",
    "\n",
    "# Create a hierarchical clustering heatmap with an aligned color bar\n",
    "g = sns.clustermap(grapher_top, z_score=0, cmap='RdYlBu_r', figsize=(10, 8),\n",
    "                   linewidths=0.5, xticklabels=True, yticklabels=True,\n",
    "                   cbar_pos=(1, 0.5, 0.03, 0.3),  # Aligns color bar to the right\n",
    "                   dendrogram_ratio=(0.1, 0.02),  # Adjusts dendrogram proportions\n",
    "                   cbar_kws={'label': 'Z-score'})  # Labels the color bar\n",
    "\n",
    "plt.savefig('Heatmap_alternaria_14dpi.png', format='png', dpi=600, bbox_inches='tight')\n",
    "plt.show()"
   ]
  },
  {
   "cell_type": "code",
   "execution_count": null,
   "id": "77e51ecd",
   "metadata": {},
   "outputs": [],
   "source": []
  },
  {
   "cell_type": "code",
   "execution_count": null,
   "id": "0a1f6175",
   "metadata": {},
   "outputs": [],
   "source": []
  },
  {
   "cell_type": "code",
   "execution_count": 43,
   "id": "13ae5939",
   "metadata": {},
   "outputs": [],
   "source": [
    "# Volcano plot"
   ]
  },
  {
   "cell_type": "code",
   "execution_count": 44,
   "id": "28f0bdaf",
   "metadata": {},
   "outputs": [],
   "source": [
    "# Define significance thresholds\n",
    "padj_threshold = 0.01\n",
    "logFC_threshold = 1.5"
   ]
  },
  {
   "cell_type": "code",
   "execution_count": 45,
   "id": "a757998c",
   "metadata": {},
   "outputs": [],
   "source": [
    "# Filter significant results and split\n",
    "significant_sigs = res[(res['padj'] < padj_threshold) & (abs(res['log2FoldChange']) > logFC_threshold)]\n",
    "positive_sigs = significant_sigs[significant_sigs['log2FoldChange'] > 0]\n",
    "negative_sigs = significant_sigs[significant_sigs['log2FoldChange'] < 0]"
   ]
  },
  {
   "cell_type": "code",
   "execution_count": 46,
   "id": "83a785a7",
   "metadata": {},
   "outputs": [
    {
     "data": {
      "image/png": "[encoded data removed]",
      "text/plain": [
       "<Figure size 1000x800 with 1 Axes>"
      ]
     },
     "metadata": {},
     "output_type": "display_data"
    }
   ],
   "source": [
    "# Set up the plot style\n",
    "plt.figure(figsize=(10, 8))\n",
    "sns.set_style(\"whitegrid\")\n",
    "sns.set_context(\"paper\", font_scale=1.5)\n",
    "\n",
    "# Create volcano plot\n",
    "plt.scatter(res['log2FoldChange'], -np.log10(res['padj']), color='lightgray', alpha=0.6, s=5, label='Not Significant')\n",
    "plt.scatter(positive_sigs['log2FoldChange'], -np.log10(positive_sigs['padj']), color='#FF4136', alpha=0.8, s=20, label='Upregulated')\n",
    "plt.scatter(negative_sigs['log2FoldChange'], -np.log10(negative_sigs['padj']), color='#0074D9', alpha=0.8, s=20, label='Downregulated')\n",
    "\n",
    "# Add threshold lines\n",
    "plt.axhline(-np.log10(padj_threshold), color='dimgray', linestyle='--', linewidth=1)\n",
    "plt.axvline(logFC_threshold, color='dimgray', linestyle='--', linewidth=1)\n",
    "plt.axvline(-logFC_threshold, color='dimgray', linestyle='--', linewidth=1)\n",
    "\n",
    "# Customize the plot\n",
    "plt.xlabel('log2Fold Change', fontweight='bold')\n",
    "plt.ylabel('-log10(adjusted p-value)', fontweight='bold')\n",
    "plt.title('Differential Gene Expression', fontsize=20, fontweight='bold')\n",
    "\n",
    "# Add legend\n",
    "legend = plt.legend(title='Gene Categories', loc='center left', bbox_to_anchor=(1, 0.5))\n",
    "plt.setp(legend.get_title(), fontweight='bold')\n",
    "\n",
    "# Label top significant genes\n",
    "top_genes = significant_sigs.nlargest(10, 'padj')\n",
    "texts = []\n",
    "for i, row in top_genes.iterrows():\n",
    "    texts.append(plt.text(row['log2FoldChange'], -np.log10(row['padj']), i, fontsize=9))\n",
    "adjust_text(texts, arrowprops=dict(arrowstyle='->', color='black', lw=0.5))\n",
    "\n",
    "# Adjust layout and save\n",
    "plt.tight_layout()\n",
    "plt.savefig('volcano_plot_alternaria_14dpi.png', format='png', dpi=600, bbox_inches='tight')\n",
    "plt.show()"
   ]
  },
  {
   "cell_type": "code",
   "execution_count": null,
   "id": "39a44c79",
   "metadata": {},
   "outputs": [],
   "source": []
  },
  {
   "cell_type": "code",
   "execution_count": 47,
   "id": "8738db9f",
   "metadata": {},
   "outputs": [],
   "source": [
    "# Download Data"
   ]
  },
  {
   "cell_type": "code",
   "execution_count": 48,
   "id": "221c0ac5",
   "metadata": {},
   "outputs": [],
   "source": [
    "res.to_csv('expreesed_genes_alternaria_14dpi.csv')\n",
    "sigs.to_csv('sigs_expreesed_genes_alternaria_14dpi.csv')"
   ]
  },
  {
   "cell_type": "code",
   "execution_count": null,
   "id": "6c484d94",
   "metadata": {},
   "outputs": [],
   "source": []
  },
  {
   "cell_type": "code",
   "execution_count": null,
   "id": "c81b6ad0",
   "metadata": {},
   "outputs": [],
   "source": []
  }
 ],
 "metadata": {
  "kernelspec": {
   "display_name": "Python 3 (ipykernel)",
   "language": "python",
   "name": "python3"
  },
  "language_info": {
   "codemirror_mode": {
    "name": "ipython",
    "version": 3
   },
   "file_extension": ".py",
   "mimetype": "text/x-python",
   "name": "python",
   "nbconvert_exporter": "python",
   "pygments_lexer": "ipython3",
   "version": "3.11.5"
  }
 },
 "nbformat": 4,
 "nbformat_minor": 5
}
